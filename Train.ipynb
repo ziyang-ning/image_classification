{
 "cells": [
  {
   "cell_type": "markdown",
   "id": "772090c9",
   "metadata": {},
   "source": [
    "# EECS 453 Final Project\n",
    "Author: Jason Ning\n",
    "\n",
    "Disclaminer: Some code are taken from my EECS 351 project last year, they are mostly for loading the data\n",
    "\n",
    "Data set: Intel Image Classification. Link: https://www.kaggle.com/datasets/puneet6060/intel-image-classification/?select=seg_train\n",
    "\n",
    "Note: The image sizes inside the data set are not consistent, though most are 150 * 150. This means resizing of images has to be done."
   ]
  },
  {
   "cell_type": "code",
   "execution_count": 13,
   "id": "cbda2c0d",
   "metadata": {},
   "outputs": [],
   "source": [
    "import os\n",
    "from os import walk\n",
    "import copy\n",
    "import pickle\n",
    "\n",
    "import matplotlib.pyplot as plt\n",
    "import numpy as np\n",
    "from tqdm import tqdm\n",
    "\n",
    "import torch\n",
    "import torchvision\n",
    "from torchvision import datasets, transforms, models\n",
    "import torch.nn as nn\n",
    "import torch.nn.functional as F\n",
    "from torchinfo import summary\n",
    "import torch.optim as optim"
   ]
  },
  {
   "cell_type": "code",
   "execution_count": 2,
   "id": "f60a55e4",
   "metadata": {},
   "outputs": [
    {
     "name": "stdout",
     "output_type": "stream",
     "text": [
      "['.ipynb_checkpoints', 'seg_pred', 'seg_test', 'seg_train', 'Train.ipynb']\n",
      "PyTorch Version:  2.1.1\n",
      "Torchvision Version:  0.16.1\n",
      "Using the GPU!\n"
     ]
    }
   ],
   "source": [
    "#Check the imports are working and GPU for torch\n",
    "print(os.listdir(\"./\"))\n",
    "print(\"PyTorch Version: \",torch.__version__)\n",
    "print(\"Torchvision Version: \",torchvision.__version__)\n",
    "\n",
    "device = torch.device(\"cuda:0\" if torch.cuda.is_available() else \"cpu\")\n",
    "if torch.cuda.is_available():\n",
    "    print(\"Using the GPU!\")\n",
    "else:\n",
    "    print(\"WARNING: Could not find GPU! Using CPU only.\")"
   ]
  },
  {
   "cell_type": "markdown",
   "id": "cb224cce",
   "metadata": {},
   "source": [
    "### Data Mean & Median Calculation\n",
    "The calculated mean and std will be used for normalization. Have to resize the data all to 150 * 150 since some images are not the same size"
   ]
  },
  {
   "cell_type": "code",
   "execution_count": 34,
   "id": "26b9dea2",
   "metadata": {},
   "outputs": [],
   "source": [
    "#resize and change it to Tensor\n",
    "calc_transform = transforms.Compose([transforms.Resize((150, 150)),\n",
    "                                     transforms.ToTensor()])\n",
    "calc_dataset = datasets.ImageFolder(\"./seg_train/seg_train/\",\n",
    "                               transform=calc_transform)\n",
    "\n",
    "calc_loader = torch.utils.data.DataLoader(calc_dataset, batch_size=32, \n",
    "                                          shuffle=False)"
   ]
  },
  {
   "cell_type": "code",
   "execution_count": 35,
   "id": "9fed6577",
   "metadata": {},
   "outputs": [
    {
     "name": "stderr",
     "output_type": "stream",
     "text": [
      "100%|██████████| 439/439 [00:07<00:00, 61.76it/s]"
     ]
    },
    {
     "name": "stdout",
     "output_type": "stream",
     "text": [
      "mean: tensor([0.4302, 0.4575, 0.4538])\n",
      "std:  tensor([0.2699, 0.2681, 0.2985])\n"
     ]
    },
    {
     "name": "stderr",
     "output_type": "stream",
     "text": [
      "\n"
     ]
    }
   ],
   "source": [
    "def get_mean_std(loader):\n",
    "    chan_sum, chan_sq_sum, num_batch = 0, 0, 0\n",
    "    for data, _ in tqdm(loader):\n",
    "        chan_sum += torch.mean(data, dim=[0,2,3])\n",
    "        chan_sq_sum += torch.mean(data**2, dim=[0,2,3])\n",
    "        num_batch += 1\n",
    "    mean = chan_sum/num_batch\n",
    "    std = (chan_sq_sum/num_batch - mean**2) ** 0.5\n",
    "    return mean, std\n",
    "\n",
    "mean, std = get_mean_std(calc_loader)\n",
    "print('mean: '  + str(mean))\n",
    "print('std:  '  + str(std))"
   ]
  },
  {
   "cell_type": "markdown",
   "id": "c4f32e60",
   "metadata": {},
   "source": [
    "## Data Normalization & Resizing "
   ]
  },
  {
   "cell_type": "code",
   "execution_count": 72,
   "id": "43125278",
   "metadata": {},
   "outputs": [],
   "source": [
    "# mean: tensor([0.4302, 0.4575, 0.4538])\n",
    "# std:  tensor([0.2699, 0.2681, 0.2985])\n",
    "transform = transforms.Compose([transforms.Resize((150, 150)),\n",
    "                                transforms.ToTensor(), \n",
    "                                transforms.Normalize([0.4302, 0.4575, 0.4538], \n",
    "                                                     [0.2699, 0.2681, 0.2985])])\n",
    "dataset = datasets.ImageFolder(\"./seg_train/seg_train/\",\n",
    "                               transform=transform)\n",
    "\n",
    "#shuffle is false for showing the images\n",
    "data_loader = torch.utils.data.DataLoader(dataset, batch_size=32, \n",
    "                                          shuffle=False)"
   ]
  },
  {
   "cell_type": "code",
   "execution_count": 56,
   "id": "2ba8738f",
   "metadata": {},
   "outputs": [],
   "source": [
    "labels_map = {\n",
    "    0: \"buildings\",\n",
    "    1: \"forest\",\n",
    "    2: \"glacier\",\n",
    "    3: \"mountain\",\n",
    "    4: \"sea\",\n",
    "    5: \"street\",\n",
    "}"
   ]
  },
  {
   "cell_type": "code",
   "execution_count": 77,
   "id": "c925bdf9",
   "metadata": {},
   "outputs": [
    {
     "name": "stderr",
     "output_type": "stream",
     "text": [
      "Clipping input data to the valid range for imshow with RGB data ([0..1] for floats or [0..255] for integers).\n"
     ]
    },
    {
     "data": {
      "text/plain": [
       "<matplotlib.image.AxesImage at 0x15935ac3610>"
      ]
     },
     "execution_count": 77,
     "metadata": {},
     "output_type": "execute_result"
    },
    {
     "data": {
      "image/png": "[encoded data removed]",
      "text/plain": [
       "<Figure size 640x480 with 2 Axes>"
      ]
     },
     "metadata": {},
     "output_type": "display_data"
    }
   ],
   "source": [
    "# Get one batch\n",
    "images, labels = next(iter(data_loader))\n",
    "images1, labels1 = next(iter(calc_loader))\n",
    "\n",
    "# see some pictures\n",
    "some_index = 4\n",
    "\n",
    "fig, axs = plt.subplots(1,2)\n",
    "plt.title(labels_map[labels[some_index].item()])\n",
    "axs[0].set_title('Normalized')\n",
    "axs[1].set_title('Original')\n",
    "axs[0].imshow(images[some_index].permute(1,2,0))\n",
    "axs[1].imshow(images1[some_index].permute(1,2,0))"
   ]
  },
  {
   "cell_type": "code",
   "execution_count": 78,
   "id": "93375e7d",
   "metadata": {},
   "outputs": [],
   "source": [
    "#Change Shuffle to true for training\n",
    "data_loader = torch.utils.data.DataLoader(dataset, batch_size=32, \n",
    "                                          shuffle=True)\n"
   ]
  },
  {
   "cell_type": "markdown",
   "id": "a96793a9",
   "metadata": {},
   "source": [
    "## The Model "
   ]
  },
  {
   "cell_type": "code",
   "execution_count": 79,
   "id": "8b6f38a6",
   "metadata": {},
   "outputs": [
    {
     "data": {
      "text/plain": [
       "Net(\n",
       "  (conv1): Sequential(\n",
       "    (0): Conv2d(3, 64, kernel_size=(3, 3), stride=(1, 1), padding=(1, 1))\n",
       "    (1): BatchNorm2d(64, eps=1e-05, momentum=0.1, affine=True, track_running_stats=True)\n",
       "    (2): ReLU(inplace=True)\n",
       "  )\n",
       "  (conv2): Sequential(\n",
       "    (0): Conv2d(64, 64, kernel_size=(3, 3), stride=(1, 1), padding=(1, 1))\n",
       "    (1): BatchNorm2d(64, eps=1e-05, momentum=0.1, affine=True, track_running_stats=True)\n",
       "    (2): ReLU(inplace=True)\n",
       "  )\n",
       "  (pool1): MaxPool2d(kernel_size=2, stride=2, padding=0, dilation=1, ceil_mode=False)\n",
       "  (conv3): Sequential(\n",
       "    (0): Conv2d(64, 128, kernel_size=(3, 3), stride=(1, 1), padding=(1, 1))\n",
       "    (1): BatchNorm2d(128, eps=1e-05, momentum=0.1, affine=True, track_running_stats=True)\n",
       "    (2): ReLU(inplace=True)\n",
       "  )\n",
       "  (conv4): Sequential(\n",
       "    (0): Conv2d(128, 128, kernel_size=(3, 3), stride=(1, 1), padding=(1, 1))\n",
       "    (1): BatchNorm2d(128, eps=1e-05, momentum=0.1, affine=True, track_running_stats=True)\n",
       "    (2): ReLU(inplace=True)\n",
       "  )\n",
       "  (pool2): MaxPool2d(kernel_size=2, stride=2, padding=0, dilation=1, ceil_mode=False)\n",
       "  (conv5): Sequential(\n",
       "    (0): Conv2d(128, 256, kernel_size=(3, 3), stride=(1, 1), padding=(1, 1))\n",
       "    (1): BatchNorm2d(256, eps=1e-05, momentum=0.1, affine=True, track_running_stats=True)\n",
       "    (2): ReLU(inplace=True)\n",
       "  )\n",
       "  (conv6): Sequential(\n",
       "    (0): Conv2d(256, 256, kernel_size=(3, 3), stride=(1, 1), padding=(1, 1))\n",
       "    (1): BatchNorm2d(256, eps=1e-05, momentum=0.1, affine=True, track_running_stats=True)\n",
       "    (2): ReLU(inplace=True)\n",
       "  )\n",
       "  (conv7): Sequential(\n",
       "    (0): Conv2d(256, 256, kernel_size=(3, 3), stride=(1, 1), padding=(1, 1))\n",
       "    (1): BatchNorm2d(256, eps=1e-05, momentum=0.1, affine=True, track_running_stats=True)\n",
       "    (2): ReLU(inplace=True)\n",
       "  )\n",
       "  (pool3): MaxPool2d(kernel_size=2, stride=2, padding=0, dilation=1, ceil_mode=False)\n",
       "  (conv8): Sequential(\n",
       "    (0): Conv2d(256, 512, kernel_size=(3, 3), stride=(1, 1), padding=(1, 1))\n",
       "    (1): BatchNorm2d(512, eps=1e-05, momentum=0.1, affine=True, track_running_stats=True)\n",
       "    (2): ReLU(inplace=True)\n",
       "  )\n",
       "  (conv9): Sequential(\n",
       "    (0): Conv2d(512, 512, kernel_size=(3, 3), stride=(1, 1), padding=(1, 1))\n",
       "    (1): BatchNorm2d(512, eps=1e-05, momentum=0.1, affine=True, track_running_stats=True)\n",
       "    (2): ReLU(inplace=True)\n",
       "  )\n",
       "  (conv10): Sequential(\n",
       "    (0): Conv2d(512, 512, kernel_size=(3, 3), stride=(1, 1), padding=(1, 1))\n",
       "    (1): BatchNorm2d(512, eps=1e-05, momentum=0.1, affine=True, track_running_stats=True)\n",
       "    (2): ReLU(inplace=True)\n",
       "  )\n",
       "  (pool4): MaxPool2d(kernel_size=2, stride=2, padding=0, dilation=1, ceil_mode=False)\n",
       "  (conv11): Sequential(\n",
       "    (0): Conv2d(512, 512, kernel_size=(3, 3), stride=(1, 1), padding=(1, 1))\n",
       "    (1): BatchNorm2d(512, eps=1e-05, momentum=0.1, affine=True, track_running_stats=True)\n",
       "    (2): ReLU(inplace=True)\n",
       "  )\n",
       "  (conv12): Sequential(\n",
       "    (0): Conv2d(512, 512, kernel_size=(3, 3), stride=(1, 1), padding=(1, 1))\n",
       "    (1): BatchNorm2d(512, eps=1e-05, momentum=0.1, affine=True, track_running_stats=True)\n",
       "    (2): ReLU(inplace=True)\n",
       "  )\n",
       "  (conv13): Sequential(\n",
       "    (0): Conv2d(512, 512, kernel_size=(3, 3), stride=(1, 1), padding=(1, 1))\n",
       "    (1): BatchNorm2d(512, eps=1e-05, momentum=0.1, affine=True, track_running_stats=True)\n",
       "    (2): ReLU(inplace=True)\n",
       "  )\n",
       "  (pool5): MaxPool2d(kernel_size=2, stride=2, padding=0, dilation=1, ceil_mode=False)\n",
       "  (adaptive): AdaptiveAvgPool2d(output_size=(7, 7))\n",
       "  (fc1): Sequential(\n",
       "    (0): Linear(in_features=25088, out_features=4096, bias=True)\n",
       "    (1): ReLU(inplace=True)\n",
       "    (2): Dropout(p=0.3, inplace=False)\n",
       "  )\n",
       "  (fc2): Sequential(\n",
       "    (0): Linear(in_features=4096, out_features=4096, bias=True)\n",
       "    (1): ReLU(inplace=True)\n",
       "    (2): Dropout(p=0.3, inplace=False)\n",
       "  )\n",
       "  (fc3): Linear(in_features=4096, out_features=6, bias=True)\n",
       ")"
      ]
     },
     "execution_count": 79,
     "metadata": {},
     "output_type": "execute_result"
    }
   ],
   "source": [
    "# implementation of VGG-BN for 3*256*256 inputs\n",
    "class Net(nn.Module):\n",
    "    def __init__(self):\n",
    "        super().__init__()\n",
    "        self.conv1 = nn.Sequential(\n",
    "            nn.Conv2d(3, 64, 3, padding=(1,1)),\n",
    "            nn.BatchNorm2d(64),\n",
    "            nn.ReLU(inplace = True))\n",
    "        \n",
    "        self.conv2 = nn.Sequential(\n",
    "            nn.Conv2d(64, 64, 3, padding=(1,1)),\n",
    "            nn.BatchNorm2d(64),\n",
    "            nn.ReLU(inplace = True)\n",
    "        )\n",
    "        \n",
    "        self.pool1 = nn.MaxPool2d(kernel_size=2, stride=2, padding=0, dilation = 1, ceil_mode=False)\n",
    "        \n",
    "        self.conv3 = nn.Sequential(\n",
    "            nn.Conv2d(64, 128, 3, padding=(1,1)),\n",
    "            nn.BatchNorm2d(128),\n",
    "            nn.ReLU(inplace = True))\n",
    "        \n",
    "        self.conv4 = nn.Sequential(\n",
    "            nn.Conv2d(128, 128, 3, padding=(1,1)),\n",
    "            nn.BatchNorm2d(128),\n",
    "            nn.ReLU(inplace = True))\n",
    "        \n",
    "        self.pool2 = nn.MaxPool2d(kernel_size=2, stride=2, padding=0, dilation = 1, ceil_mode=False)\n",
    "\n",
    "        self.conv5 = nn.Sequential(\n",
    "            nn.Conv2d(128, 256, 3, padding=(1,1)),\n",
    "            nn.BatchNorm2d(256),\n",
    "            nn.ReLU(inplace = True))\n",
    "        \n",
    "        self.conv6 = nn.Sequential(\n",
    "            nn.Conv2d(256, 256, 3, padding=(1,1)),\n",
    "            nn.BatchNorm2d(256),\n",
    "            nn.ReLU(inplace = True))\n",
    "        \n",
    "        self.conv7 = nn.Sequential(\n",
    "            nn.Conv2d(256, 256, 3, padding=(1,1)),\n",
    "            nn.BatchNorm2d(256),\n",
    "            nn.ReLU(inplace = True))\n",
    "        \n",
    "        self.pool3 = nn.MaxPool2d(kernel_size=2, stride=2, padding=0, dilation = 1, ceil_mode=False)\n",
    "        \n",
    "        self.conv8 = nn.Sequential(\n",
    "            nn.Conv2d(256, 512, 3, padding=(1,1)),\n",
    "            nn.BatchNorm2d(512),\n",
    "            nn.ReLU(inplace = True))\n",
    "        \n",
    "        self.conv9 = nn.Sequential(\n",
    "            nn.Conv2d(512, 512, 3, padding=(1,1)),\n",
    "            nn.BatchNorm2d(512),\n",
    "            nn.ReLU(inplace = True))\n",
    "        \n",
    "        self.conv10 = nn.Sequential(\n",
    "            nn.Conv2d(512, 512, 3, padding=(1,1)),\n",
    "            nn.BatchNorm2d(512),\n",
    "            nn.ReLU(inplace = True))\n",
    "        \n",
    "        self.pool4 = nn.MaxPool2d(kernel_size=2, stride=2, padding=0, dilation = 1, ceil_mode=False)\n",
    "\n",
    "        self.conv11 = nn.Sequential(\n",
    "            nn.Conv2d(512, 512, 3, padding=(1,1)),\n",
    "            nn.BatchNorm2d(512),\n",
    "            nn.ReLU(inplace = True))\n",
    "        \n",
    "        self.conv12 = nn.Sequential(\n",
    "            nn.Conv2d(512, 512, 3, padding=(1,1)),\n",
    "            nn.BatchNorm2d(512),\n",
    "            nn.ReLU(inplace = True))\n",
    "        \n",
    "        self.conv13 = nn.Sequential(\n",
    "            nn.Conv2d(512, 512, 3, padding=(1,1)),\n",
    "            nn.BatchNorm2d(512),\n",
    "            nn.ReLU(inplace = True))\n",
    "        \n",
    "        self.pool5 = nn.MaxPool2d(kernel_size=2, stride=2, padding=0, dilation = 1, ceil_mode=False)\n",
    "\n",
    "        \n",
    "        self.adaptive = nn.AdaptiveAvgPool2d(output_size=(7,7))\n",
    "        \n",
    "        self.fc1 = nn.Sequential(\n",
    "            nn.Linear(in_features=25088, out_features = 4096, bias = True),\n",
    "            nn.ReLU(inplace = True),\n",
    "            nn.Dropout(p=0.3, inplace = False))\n",
    "        \n",
    "        self.fc2 = nn.Sequential(\n",
    "            nn.Linear(in_features=4096, out_features = 4096, bias = True),\n",
    "            nn.ReLU(inplace = True),\n",
    "            nn.Dropout(p=0.3, inplace = False))\n",
    "        \n",
    "        self.fc3 = nn.Linear(in_features=4096, out_features = 6, bias = True)\n",
    "        \n",
    "    def forward(self, x):\n",
    "        x = self.conv1(x) \n",
    "        x = self.conv2(x) \n",
    "        x = self.pool1(x) \n",
    "        x = self.conv3(x) \n",
    "        x = self.conv4(x) \n",
    "        x = self.pool2(x) \n",
    "        x = self.conv5(x) \n",
    "        x = self.conv6(x)   \n",
    "        x = self.conv7(x)  \n",
    "        x = self.pool3(x) \n",
    "        x = self.conv8(x) \n",
    "        x = self.conv9(x) \n",
    "        x = self.conv10(x)\n",
    "        x = self.pool4(x)\n",
    "        x = self.conv11(x)\n",
    "        x = self.conv12(x)\n",
    "        x = self.conv13(x)\n",
    "        x = self.pool5(x)\n",
    "        x = self.adaptive(x)\n",
    "        x = torch.flatten(x, 1)\n",
    "        x = self.fc1(x)\n",
    "        x = self.fc2(x)\n",
    "        x = self.fc3(x)\n",
    "        return x\n",
    "\n",
    "net = Net()\n",
    "net.to(device)"
   ]
  },
  {
   "cell_type": "code",
   "execution_count": 80,
   "id": "e9c8b188",
   "metadata": {},
   "outputs": [
    {
     "data": {
      "text/plain": [
       "==========================================================================================\n",
       "Layer (type:depth-idx)                   Output Shape              Param #\n",
       "==========================================================================================\n",
       "Net                                      [32, 6]                   --\n",
       "├─Sequential: 1-1                        [32, 64, 256, 256]        --\n",
       "│    └─Conv2d: 2-1                       [32, 64, 256, 256]        1,792\n",
       "│    └─BatchNorm2d: 2-2                  [32, 64, 256, 256]        128\n",
       "│    └─ReLU: 2-3                         [32, 64, 256, 256]        --\n",
       "├─Sequential: 1-2                        [32, 64, 256, 256]        --\n",
       "│    └─Conv2d: 2-4                       [32, 64, 256, 256]        36,928\n",
       "│    └─BatchNorm2d: 2-5                  [32, 64, 256, 256]        128\n",
       "│    └─ReLU: 2-6                         [32, 64, 256, 256]        --\n",
       "├─MaxPool2d: 1-3                         [32, 64, 128, 128]        --\n",
       "├─Sequential: 1-4                        [32, 128, 128, 128]       --\n",
       "│    └─Conv2d: 2-7                       [32, 128, 128, 128]       73,856\n",
       "│    └─BatchNorm2d: 2-8                  [32, 128, 128, 128]       256\n",
       "│    └─ReLU: 2-9                         [32, 128, 128, 128]       --\n",
       "├─Sequential: 1-5                        [32, 128, 128, 128]       --\n",
       "│    └─Conv2d: 2-10                      [32, 128, 128, 128]       147,584\n",
       "│    └─BatchNorm2d: 2-11                 [32, 128, 128, 128]       256\n",
       "│    └─ReLU: 2-12                        [32, 128, 128, 128]       --\n",
       "├─MaxPool2d: 1-6                         [32, 128, 64, 64]         --\n",
       "├─Sequential: 1-7                        [32, 256, 64, 64]         --\n",
       "│    └─Conv2d: 2-13                      [32, 256, 64, 64]         295,168\n",
       "│    └─BatchNorm2d: 2-14                 [32, 256, 64, 64]         512\n",
       "│    └─ReLU: 2-15                        [32, 256, 64, 64]         --\n",
       "├─Sequential: 1-8                        [32, 256, 64, 64]         --\n",
       "│    └─Conv2d: 2-16                      [32, 256, 64, 64]         590,080\n",
       "│    └─BatchNorm2d: 2-17                 [32, 256, 64, 64]         512\n",
       "│    └─ReLU: 2-18                        [32, 256, 64, 64]         --\n",
       "├─Sequential: 1-9                        [32, 256, 64, 64]         --\n",
       "│    └─Conv2d: 2-19                      [32, 256, 64, 64]         590,080\n",
       "│    └─BatchNorm2d: 2-20                 [32, 256, 64, 64]         512\n",
       "│    └─ReLU: 2-21                        [32, 256, 64, 64]         --\n",
       "├─MaxPool2d: 1-10                        [32, 256, 32, 32]         --\n",
       "├─Sequential: 1-11                       [32, 512, 32, 32]         --\n",
       "│    └─Conv2d: 2-22                      [32, 512, 32, 32]         1,180,160\n",
       "│    └─BatchNorm2d: 2-23                 [32, 512, 32, 32]         1,024\n",
       "│    └─ReLU: 2-24                        [32, 512, 32, 32]         --\n",
       "├─Sequential: 1-12                       [32, 512, 32, 32]         --\n",
       "│    └─Conv2d: 2-25                      [32, 512, 32, 32]         2,359,808\n",
       "│    └─BatchNorm2d: 2-26                 [32, 512, 32, 32]         1,024\n",
       "│    └─ReLU: 2-27                        [32, 512, 32, 32]         --\n",
       "├─Sequential: 1-13                       [32, 512, 32, 32]         --\n",
       "│    └─Conv2d: 2-28                      [32, 512, 32, 32]         2,359,808\n",
       "│    └─BatchNorm2d: 2-29                 [32, 512, 32, 32]         1,024\n",
       "│    └─ReLU: 2-30                        [32, 512, 32, 32]         --\n",
       "├─MaxPool2d: 1-14                        [32, 512, 16, 16]         --\n",
       "├─Sequential: 1-15                       [32, 512, 16, 16]         --\n",
       "│    └─Conv2d: 2-31                      [32, 512, 16, 16]         2,359,808\n",
       "│    └─BatchNorm2d: 2-32                 [32, 512, 16, 16]         1,024\n",
       "│    └─ReLU: 2-33                        [32, 512, 16, 16]         --\n",
       "├─Sequential: 1-16                       [32, 512, 16, 16]         --\n",
       "│    └─Conv2d: 2-34                      [32, 512, 16, 16]         2,359,808\n",
       "│    └─BatchNorm2d: 2-35                 [32, 512, 16, 16]         1,024\n",
       "│    └─ReLU: 2-36                        [32, 512, 16, 16]         --\n",
       "├─Sequential: 1-17                       [32, 512, 16, 16]         --\n",
       "│    └─Conv2d: 2-37                      [32, 512, 16, 16]         2,359,808\n",
       "│    └─BatchNorm2d: 2-38                 [32, 512, 16, 16]         1,024\n",
       "│    └─ReLU: 2-39                        [32, 512, 16, 16]         --\n",
       "├─MaxPool2d: 1-18                        [32, 512, 8, 8]           --\n",
       "├─AdaptiveAvgPool2d: 1-19                [32, 512, 7, 7]           --\n",
       "├─Sequential: 1-20                       [32, 4096]                --\n",
       "│    └─Linear: 2-40                      [32, 4096]                102,764,544\n",
       "│    └─ReLU: 2-41                        [32, 4096]                --\n",
       "│    └─Dropout: 2-42                     [32, 4096]                --\n",
       "├─Sequential: 1-21                       [32, 4096]                --\n",
       "│    └─Linear: 2-43                      [32, 4096]                16,781,312\n",
       "│    └─ReLU: 2-44                        [32, 4096]                --\n",
       "│    └─Dropout: 2-45                     [32, 4096]                --\n",
       "├─Linear: 1-22                           [32, 6]                   24,582\n",
       "==========================================================================================\n",
       "Total params: 134,293,574\n",
       "Trainable params: 134,293,574\n",
       "Non-trainable params: 0\n",
       "Total mult-adds (Units.GIGABYTES): 645.82\n",
       "==========================================================================================\n",
       "Input size (MB): 25.17\n",
       "Forward/backward pass size (MB): 9061.80\n",
       "Params size (MB): 537.17\n",
       "Estimated Total Size (MB): 9624.14\n",
       "=========================================================================================="
      ]
     },
     "execution_count": 80,
     "metadata": {},
     "output_type": "execute_result"
    }
   ],
   "source": [
    "summary(net, input_size = (32, 3, 256, 256))"
   ]
  },
  {
   "cell_type": "code",
   "execution_count": 83,
   "id": "f141ea56",
   "metadata": {},
   "outputs": [
    {
     "name": "stderr",
     "output_type": "stream",
     "text": [
      "\r",
      "  0%|          | 0/3 [00:00<?, ?it/s]"
     ]
    },
    {
     "name": "stdout",
     "output_type": "stream",
     "text": [
      "------ Starting Epoch [1/3] ------\n"
     ]
    },
    {
     "name": "stderr",
     "output_type": "stream",
     "text": [
      "\n",
      "0it [00:00, ?it/s]\u001b[A\n",
      "2it [00:00,  5.39it/s]\u001b[A\n",
      "3it [00:00,  6.40it/s]\u001b[A"
     ]
    },
    {
     "name": "stdout",
     "output_type": "stream",
     "text": [
      "Epoch [1/3], Step [2/439], Running Loss: 0.0000, running Correct: [0/64]\n"
     ]
    },
    {
     "name": "stderr",
     "output_type": "stream",
     "text": [
      "\n",
      "4it [00:00,  7.18it/s]\u001b[A\n",
      "5it [00:00,  7.70it/s]\u001b[A\n",
      "6it [00:00,  8.09it/s]\u001b[A\n",
      "7it [00:00,  8.34it/s]\u001b[A\n",
      "8it [00:01,  8.54it/s]\u001b[A\n",
      "9it [00:01,  8.64it/s]\u001b[A\n",
      "10it [00:01,  8.72it/s]\u001b[A\n",
      "11it [00:01,  8.78it/s]\u001b[A\n",
      "12it [00:01,  8.85it/s]\u001b[A\n",
      "13it [00:01,  8.90it/s]\u001b[A\n",
      "14it [00:01,  8.91it/s]\u001b[A\n",
      "15it [00:01,  8.96it/s]\u001b[A\n",
      "16it [00:01,  9.00it/s]\u001b[A\n",
      "17it [00:02,  9.05it/s]\u001b[A\n",
      "18it [00:02,  9.11it/s]\u001b[A\n",
      "19it [00:02,  9.05it/s]\u001b[A\n",
      "20it [00:02,  8.99it/s]\u001b[A\n",
      "21it [00:02,  8.99it/s]\u001b[A\n",
      "22it [00:02,  8.97it/s]\u001b[A\n",
      "23it [00:02,  8.98it/s]\u001b[A"
     ]
    },
    {
     "name": "stdout",
     "output_type": "stream",
     "text": [
      "Epoch [1/3], Step [22/439], Running Loss: 0.0000, running Correct: [0/704]\n"
     ]
    },
    {
     "name": "stderr",
     "output_type": "stream",
     "text": [
      "\n",
      "24it [00:02,  8.99it/s]\u001b[A\n",
      "25it [00:02,  8.97it/s]\u001b[A\n",
      "26it [00:03,  8.98it/s]\u001b[A\n",
      "27it [00:03,  8.99it/s]\u001b[A\n",
      "28it [00:03,  8.97it/s]\u001b[A\n",
      "29it [00:03,  8.98it/s]\u001b[A\n",
      "30it [00:03,  8.91it/s]\u001b[A\n",
      "31it [00:03,  8.94it/s]\u001b[A\n",
      "32it [00:03,  8.96it/s]\u001b[A\n",
      "33it [00:03,  8.93it/s]\u001b[A\n",
      "34it [00:03,  8.95it/s]\u001b[A\n",
      "35it [00:04,  8.92it/s]\u001b[A\n",
      "36it [00:04,  8.97it/s]\u001b[A\n",
      "37it [00:04,  9.01it/s]\u001b[A\n",
      "38it [00:04,  9.01it/s]\u001b[A\n",
      "39it [00:04,  9.01it/s]\u001b[A\n",
      "40it [00:04,  9.01it/s]\u001b[A\n",
      "41it [00:04,  8.98it/s]\u001b[A\n",
      "42it [00:04,  8.99it/s]\u001b[A\n",
      "43it [00:04,  8.97it/s]\u001b[A"
     ]
    },
    {
     "name": "stdout",
     "output_type": "stream",
     "text": [
      "Epoch [1/3], Step [42/439], Running Loss: 0.0000, running Correct: [0/1344]\n"
     ]
    },
    {
     "name": "stderr",
     "output_type": "stream",
     "text": [
      "\n",
      "44it [00:05,  8.98it/s]\u001b[A\n",
      "45it [00:05,  8.97it/s]\u001b[A\n",
      "46it [00:05,  8.97it/s]\u001b[A\n",
      "47it [00:05,  8.96it/s]\u001b[A\n",
      "48it [00:05,  8.90it/s]\u001b[A\n",
      "49it [00:05,  8.91it/s]\u001b[A\n",
      "50it [00:05,  8.94it/s]\u001b[A\n",
      "51it [00:05,  8.96it/s]\u001b[A\n",
      "52it [00:05,  9.00it/s]\u001b[A\n",
      "53it [00:06,  9.07it/s]\u001b[A\n",
      "54it [00:06,  9.10it/s]\u001b[A\n",
      "55it [00:06,  9.05it/s]\u001b[A\n",
      "56it [00:06,  9.04it/s]\u001b[A\n",
      "57it [00:06,  9.03it/s]\u001b[A\n",
      "58it [00:06,  9.00it/s]\u001b[A\n",
      "59it [00:06,  9.02it/s]\u001b[A\n",
      "60it [00:06,  9.00it/s]\u001b[A\n",
      "61it [00:06,  9.00it/s]\u001b[A\n",
      "62it [00:07,  8.98it/s]\u001b[A\n",
      "63it [00:07,  8.94it/s]\u001b[A"
     ]
    },
    {
     "name": "stdout",
     "output_type": "stream",
     "text": [
      "Epoch [1/3], Step [62/439], Running Loss: 0.0000, running Correct: [0/1984]\n"
     ]
    },
    {
     "name": "stderr",
     "output_type": "stream",
     "text": [
      "\n",
      "64it [00:07,  8.94it/s]\u001b[A\n",
      "65it [00:07,  8.96it/s]\u001b[A\n",
      "66it [00:07,  8.95it/s]\u001b[A\n",
      "67it [00:07,  8.96it/s]\u001b[A\n",
      "68it [00:07,  8.98it/s]\u001b[A\n",
      "69it [00:07,  8.96it/s]\u001b[A\n",
      "70it [00:07,  9.03it/s]\u001b[A\n",
      "71it [00:08,  9.09it/s]\u001b[A\n",
      "72it [00:08,  9.09it/s]\u001b[A\n",
      "73it [00:08,  9.09it/s]\u001b[A\n",
      "74it [00:08,  9.06it/s]\u001b[A\n",
      "75it [00:08,  9.00it/s]\u001b[A\n",
      "76it [00:08,  8.98it/s]\u001b[A\n",
      "77it [00:08,  8.98it/s]\u001b[A\n",
      "78it [00:08,  8.99it/s]\u001b[A\n",
      "79it [00:08,  8.97it/s]\u001b[A\n",
      "80it [00:09,  8.98it/s]\u001b[A\n",
      "81it [00:09,  8.99it/s]\u001b[A\n",
      "82it [00:09,  9.00it/s]\u001b[A\n",
      "83it [00:09,  8.97it/s]\u001b[A"
     ]
    },
    {
     "name": "stdout",
     "output_type": "stream",
     "text": [
      "Epoch [1/3], Step [82/439], Running Loss: 0.0000, running Correct: [0/2624]\n"
     ]
    },
    {
     "name": "stderr",
     "output_type": "stream",
     "text": [
      "\n",
      "84it [00:09,  8.98it/s]\u001b[A\n",
      "85it [00:09,  8.99it/s]\u001b[A\n",
      "86it [00:09,  8.99it/s]\u001b[A\n",
      "87it [00:09,  8.97it/s]\u001b[A\n",
      "88it [00:09,  9.01it/s]\u001b[A\n",
      "89it [00:10,  9.08it/s]\u001b[A\n",
      "90it [00:10,  9.06it/s]\u001b[A\n",
      "91it [00:10,  9.02it/s]\u001b[A\n",
      "92it [00:10,  8.97it/s]\u001b[A\n",
      "93it [00:10,  8.98it/s]\u001b[A\n",
      "94it [00:10,  8.99it/s]\u001b[A\n",
      "95it [00:10,  9.02it/s]\u001b[A\n",
      "96it [00:10,  9.01it/s]\u001b[A\n",
      "97it [00:10,  9.01it/s]\u001b[A\n",
      "98it [00:11,  8.98it/s]\u001b[A\n",
      "99it [00:11,  9.02it/s]\u001b[A\n",
      "100it [00:11,  8.99it/s]\u001b[A\n",
      "101it [00:11,  9.00it/s]\u001b[A\n",
      "102it [00:11,  8.98it/s]\u001b[A\n",
      "103it [00:11,  8.95it/s]\u001b[A"
     ]
    },
    {
     "name": "stdout",
     "output_type": "stream",
     "text": [
      "Epoch [1/3], Step [102/439], Running Loss: 0.0000, running Correct: [0/3264]\n"
     ]
    },
    {
     "name": "stderr",
     "output_type": "stream",
     "text": [
      "\n",
      "104it [00:11,  8.97it/s]\u001b[A\n",
      "105it [00:11,  8.93it/s]\u001b[A\n",
      "106it [00:11,  8.98it/s]\u001b[A\n",
      "107it [00:12,  9.04it/s]\u001b[A\n",
      "108it [00:12,  9.08it/s]\u001b[A\n",
      "109it [00:12,  9.03it/s]\u001b[A\n",
      "110it [00:12,  9.00it/s]\u001b[A\n",
      "111it [00:12,  9.00it/s]\u001b[A\n",
      "112it [00:12,  8.96it/s]\u001b[A\n",
      "113it [00:12,  8.97it/s]\u001b[A\n",
      "114it [00:12,  8.96it/s]\u001b[A\n",
      "115it [00:12,  8.95it/s]\u001b[A\n",
      "116it [00:13,  8.94it/s]\u001b[A\n",
      "117it [00:13,  8.96it/s]\u001b[A\n",
      "118it [00:13,  9.00it/s]\u001b[A\n",
      "119it [00:13,  8.98it/s]\u001b[A\n",
      "120it [00:13,  8.99it/s]\u001b[A\n",
      "121it [00:13,  9.01it/s]\u001b[A\n",
      "122it [00:13,  8.99it/s]\u001b[A\n",
      "123it [00:13,  8.95it/s]\u001b[A"
     ]
    },
    {
     "name": "stdout",
     "output_type": "stream",
     "text": [
      "Epoch [1/3], Step [122/439], Running Loss: 0.0000, running Correct: [0/3904]\n"
     ]
    },
    {
     "name": "stderr",
     "output_type": "stream",
     "text": [
      "\n",
      "124it [00:13,  8.96it/s]\u001b[A\n",
      "125it [00:14,  9.00it/s]\u001b[A\n",
      "126it [00:14,  9.08it/s]\u001b[A\n",
      "127it [00:14,  9.06it/s]\u001b[A\n",
      "128it [00:14,  9.04it/s]\u001b[A\n",
      "129it [00:14,  9.08it/s]\u001b[A\n",
      "130it [00:14,  9.03it/s]\u001b[A\n",
      "131it [00:14,  9.00it/s]\u001b[A\n",
      "132it [00:14,  9.05it/s]\u001b[A\n",
      "133it [00:14,  9.01it/s]\u001b[A\n",
      "134it [00:15,  8.99it/s]\u001b[A\n",
      "135it [00:15,  9.02it/s]\u001b[A\n",
      "136it [00:15,  9.02it/s]\u001b[A\n",
      "137it [00:15,  9.01it/s]\u001b[A\n",
      "138it [00:15,  9.04it/s]\u001b[A\n",
      "139it [00:15,  9.03it/s]\u001b[A\n",
      "140it [00:15,  9.02it/s]\u001b[A\n",
      "141it [00:15,  9.02it/s]\u001b[A\n",
      "142it [00:15,  9.09it/s]\u001b[A\n",
      "143it [00:16,  9.09it/s]\u001b[A"
     ]
    },
    {
     "name": "stdout",
     "output_type": "stream",
     "text": [
      "Epoch [1/3], Step [142/439], Running Loss: 0.0000, running Correct: [0/4544]\n"
     ]
    },
    {
     "name": "stderr",
     "output_type": "stream",
     "text": [
      "\n",
      "144it [00:16,  9.14it/s]\u001b[A\n",
      "145it [00:16,  9.10it/s]\u001b[A\n",
      "146it [00:16,  9.07it/s]\u001b[A\n",
      "147it [00:16,  9.05it/s]\u001b[A\n",
      "148it [00:16,  9.01it/s]\u001b[A\n",
      "149it [00:16,  9.01it/s]\u001b[A\n",
      "150it [00:16,  9.01it/s]\u001b[A\n",
      "151it [00:16,  9.03it/s]\u001b[A\n",
      "152it [00:17,  9.02it/s]\u001b[A\n",
      "153it [00:17,  9.02it/s]\u001b[A\n",
      "154it [00:17,  9.02it/s]\u001b[A\n",
      "155it [00:17,  9.01it/s]\u001b[A\n",
      "156it [00:17,  9.01it/s]\u001b[A\n",
      "157it [00:17,  9.01it/s]\u001b[A\n",
      "158it [00:17,  9.01it/s]\u001b[A\n",
      "159it [00:17,  9.01it/s]\u001b[A\n",
      "160it [00:17,  9.05it/s]\u001b[A\n",
      "161it [00:18,  9.09it/s]\u001b[A\n",
      "162it [00:18,  9.11it/s]\u001b[A\n",
      "163it [00:18,  9.08it/s]\u001b[A"
     ]
    },
    {
     "name": "stdout",
     "output_type": "stream",
     "text": [
      "Epoch [1/3], Step [162/439], Running Loss: 0.0000, running Correct: [0/5184]\n"
     ]
    },
    {
     "name": "stderr",
     "output_type": "stream",
     "text": [
      "\n",
      "164it [00:18,  9.06it/s]\u001b[A\n",
      "165it [00:18,  9.04it/s]\u001b[A\n",
      "166it [00:18,  9.03it/s]\u001b[A\n",
      "167it [00:18,  9.05it/s]\u001b[A\n",
      "168it [00:18,  9.01it/s]\u001b[A\n",
      "169it [00:18,  9.03it/s]\u001b[A\n",
      "170it [00:19,  9.03it/s]\u001b[A\n",
      "171it [00:19,  8.99it/s]\u001b[A\n",
      "172it [00:19,  9.02it/s]\u001b[A\n",
      "173it [00:19,  8.99it/s]\u001b[A\n",
      "174it [00:19,  9.00it/s]\u001b[A\n",
      "175it [00:19,  9.03it/s]\u001b[A\n",
      "176it [00:19,  8.99it/s]\u001b[A\n",
      "177it [00:19,  9.00it/s]\u001b[A\n",
      "178it [00:19,  9.05it/s]\u001b[A\n",
      "179it [00:20,  9.09it/s]\u001b[A\n",
      "180it [00:20,  9.11it/s]\u001b[A\n",
      "181it [00:20,  9.08it/s]\u001b[A\n",
      "182it [00:20,  9.06it/s]\u001b[A\n",
      "183it [00:20,  9.07it/s]\u001b[A"
     ]
    },
    {
     "name": "stdout",
     "output_type": "stream",
     "text": [
      "Epoch [1/3], Step [182/439], Running Loss: 0.0000, running Correct: [0/5824]\n"
     ]
    },
    {
     "name": "stderr",
     "output_type": "stream",
     "text": [
      "\n",
      "184it [00:20,  9.05it/s]\u001b[A\n",
      "185it [00:20,  9.03it/s]\u001b[A\n",
      "186it [00:20,  9.00it/s]\u001b[A\n",
      "187it [00:20,  9.03it/s]\u001b[A\n",
      "188it [00:21,  9.02it/s]\u001b[A\n",
      "189it [00:21,  8.99it/s]\u001b[A\n",
      "190it [00:21,  9.02it/s]\u001b[A\n",
      "191it [00:21,  8.99it/s]\u001b[A\n",
      "192it [00:21,  9.00it/s]\u001b[A\n",
      "193it [00:21,  9.00it/s]\u001b[A\n",
      "194it [00:21,  9.00it/s]\u001b[A\n",
      "195it [00:21,  9.00it/s]\u001b[A\n",
      "196it [00:21,  9.03it/s]\u001b[A\n",
      "197it [00:22,  9.05it/s]\u001b[A\n",
      "198it [00:22,  9.11it/s]\u001b[A\n",
      "199it [00:22,  9.10it/s]\u001b[A\n",
      "200it [00:22,  9.05it/s]\u001b[A\n",
      "201it [00:22,  9.06it/s]\u001b[A\n",
      "202it [00:22,  9.02it/s]\u001b[A\n",
      "203it [00:22,  9.02it/s]\u001b[A"
     ]
    },
    {
     "name": "stdout",
     "output_type": "stream",
     "text": [
      "Epoch [1/3], Step [202/439], Running Loss: 0.0000, running Correct: [0/6464]\n"
     ]
    },
    {
     "name": "stderr",
     "output_type": "stream",
     "text": [
      "\n",
      "204it [00:22,  9.01it/s]\u001b[A\n",
      "205it [00:22,  9.01it/s]\u001b[A\n",
      "206it [00:23,  9.01it/s]\u001b[A\n",
      "207it [00:23,  9.03it/s]\u001b[A\n",
      "208it [00:23,  9.03it/s]\u001b[A\n",
      "209it [00:23,  9.02it/s]\u001b[A\n",
      "210it [00:23,  9.02it/s]\u001b[A\n",
      "211it [00:23,  9.02it/s]\u001b[A\n",
      "212it [00:23,  9.01it/s]\u001b[A\n",
      "213it [00:23,  9.01it/s]\u001b[A\n",
      "214it [00:23,  9.03it/s]\u001b[A\n",
      "215it [00:24,  9.08it/s]\u001b[A\n",
      "216it [00:24,  9.10it/s]\u001b[A\n",
      "217it [00:24,  9.10it/s]\u001b[A\n",
      "218it [00:24,  9.07it/s]\u001b[A\n",
      "219it [00:24,  9.08it/s]\u001b[A\n",
      "220it [00:24,  9.05it/s]\u001b[A\n",
      "221it [00:24,  9.04it/s]\u001b[A\n",
      "222it [00:24,  9.03it/s]\u001b[A\n",
      "223it [00:24,  9.02it/s]\u001b[A"
     ]
    },
    {
     "name": "stdout",
     "output_type": "stream",
     "text": [
      "Epoch [1/3], Step [222/439], Running Loss: 0.0000, running Correct: [0/7104]\n"
     ]
    },
    {
     "name": "stderr",
     "output_type": "stream",
     "text": [
      "\n",
      "224it [00:25,  9.02it/s]\u001b[A\n",
      "225it [00:25,  9.01it/s]\u001b[A\n",
      "226it [00:25,  8.99it/s]\u001b[A\n",
      "227it [00:25,  8.99it/s]\u001b[A\n",
      "228it [00:25,  9.00it/s]\u001b[A\n",
      "229it [00:25,  8.97it/s]\u001b[A\n",
      "230it [00:25,  8.98it/s]\u001b[A\n",
      "231it [00:25,  9.01it/s]\u001b[A\n",
      "232it [00:25,  9.01it/s]\u001b[A\n",
      "233it [00:26,  9.06it/s]\u001b[A\n",
      "234it [00:26,  9.09it/s]\u001b[A\n",
      "235it [00:26,  9.12it/s]\u001b[A\n",
      "236it [00:26,  9.06it/s]\u001b[A\n",
      "237it [00:26,  9.04it/s]\u001b[A\n",
      "238it [00:26,  9.06it/s]\u001b[A\n",
      "239it [00:26,  9.02it/s]\u001b[A\n",
      "240it [00:26,  9.04it/s]\u001b[A\n",
      "241it [00:26,  9.00it/s]\u001b[A\n",
      "242it [00:27,  9.01it/s]\u001b[A\n",
      "243it [00:27,  9.01it/s]\u001b[A"
     ]
    },
    {
     "name": "stdout",
     "output_type": "stream",
     "text": [
      "Epoch [1/3], Step [242/439], Running Loss: 0.0000, running Correct: [0/7744]\n"
     ]
    },
    {
     "name": "stderr",
     "output_type": "stream",
     "text": [
      "\n",
      "244it [00:27,  9.01it/s]\u001b[A\n",
      "245it [00:27,  8.98it/s]\u001b[A\n",
      "246it [00:27,  9.02it/s]\u001b[A\n",
      "247it [00:27,  9.01it/s]\u001b[A\n",
      "248it [00:27,  8.99it/s]\u001b[A\n",
      "249it [00:27,  9.02it/s]\u001b[A\n",
      "250it [00:27,  9.01it/s]\u001b[A\n",
      "251it [00:28,  9.09it/s]\u001b[A\n",
      "252it [00:28,  9.11it/s]\u001b[A\n",
      "253it [00:28,  9.11it/s]\u001b[A\n",
      "254it [00:28,  9.10it/s]\u001b[A\n",
      "255it [00:28,  9.05it/s]\u001b[A\n",
      "256it [00:28,  9.01it/s]\u001b[A\n",
      "257it [00:28,  9.01it/s]\u001b[A\n",
      "258it [00:28,  9.03it/s]\u001b[A\n",
      "259it [00:28,  9.02it/s]\u001b[A\n",
      "260it [00:29,  8.99it/s]\u001b[A\n",
      "261it [00:29,  9.00it/s]\u001b[A\n",
      "262it [00:29,  9.02it/s]\u001b[A\n",
      "263it [00:29,  8.97it/s]\u001b[A"
     ]
    },
    {
     "name": "stdout",
     "output_type": "stream",
     "text": [
      "Epoch [1/3], Step [262/439], Running Loss: 0.0000, running Correct: [0/8384]\n"
     ]
    },
    {
     "name": "stderr",
     "output_type": "stream",
     "text": [
      "\n",
      "264it [00:29,  9.01it/s]\u001b[A\n",
      "265it [00:29,  8.98it/s]\u001b[A\n",
      "266it [00:29,  9.01it/s]\u001b[A\n",
      "267it [00:29,  9.01it/s]\u001b[A\n",
      "268it [00:29,  9.01it/s]\u001b[A\n",
      "269it [00:29,  9.08it/s]\u001b[A\n",
      "270it [00:30,  9.08it/s]\u001b[A\n",
      "271it [00:30,  9.11it/s]\u001b[A\n",
      "272it [00:30,  9.08it/s]\u001b[A\n",
      "273it [00:30,  9.08it/s]\u001b[A\n",
      "274it [00:30,  9.06it/s]\u001b[A\n",
      "275it [00:30,  9.04it/s]\u001b[A\n",
      "276it [00:30,  9.03it/s]\u001b[A\n",
      "277it [00:30,  9.02it/s]\u001b[A\n",
      "278it [00:30,  9.02it/s]\u001b[A\n",
      "279it [00:31,  9.01it/s]\u001b[A\n",
      "280it [00:31,  8.99it/s]\u001b[A\n",
      "281it [00:31,  8.99it/s]\u001b[A\n",
      "282it [00:31,  9.02it/s]\u001b[A\n",
      "283it [00:31,  9.02it/s]\u001b[A"
     ]
    },
    {
     "name": "stdout",
     "output_type": "stream",
     "text": [
      "Epoch [1/3], Step [282/439], Running Loss: 0.0000, running Correct: [0/9024]\n"
     ]
    },
    {
     "name": "stderr",
     "output_type": "stream",
     "text": [
      "\n",
      "284it [00:31,  8.99it/s]\u001b[A\n",
      "285it [00:31,  9.02it/s]\u001b[A\n",
      "286it [00:31,  9.04it/s]\u001b[A\n",
      "287it [00:31,  9.08it/s]\u001b[A\n",
      "288it [00:32,  9.13it/s]\u001b[A\n",
      "289it [00:32,  9.12it/s]\u001b[A\n",
      "290it [00:32,  9.11it/s]\u001b[A\n",
      "291it [00:32,  9.06it/s]\u001b[A\n",
      "292it [00:32,  9.04it/s]\u001b[A\n",
      "293it [00:32,  9.05it/s]\u001b[A\n",
      "294it [00:32,  9.04it/s]\u001b[A\n",
      "295it [00:32,  9.01it/s]\u001b[A\n",
      "296it [00:32,  9.00it/s]\u001b[A\n",
      "297it [00:33,  8.98it/s]\u001b[A\n",
      "298it [00:33,  9.01it/s]\u001b[A\n",
      "299it [00:33,  9.01it/s]\u001b[A\n",
      "300it [00:33,  9.01it/s]\u001b[A\n",
      "301it [00:33,  9.03it/s]\u001b[A\n",
      "302it [00:33,  9.02it/s]\u001b[A\n",
      "303it [00:33,  8.99it/s]\u001b[A"
     ]
    },
    {
     "name": "stdout",
     "output_type": "stream",
     "text": [
      "Epoch [1/3], Step [302/439], Running Loss: 0.0000, running Correct: [0/9664]\n"
     ]
    },
    {
     "name": "stderr",
     "output_type": "stream",
     "text": [
      "\n",
      "304it [00:33,  9.02it/s]\u001b[A\n",
      "305it [00:33,  9.07it/s]\u001b[A\n",
      "306it [00:34,  9.12it/s]\u001b[A\n",
      "307it [00:34,  9.11it/s]\u001b[A\n",
      "308it [00:34,  9.08it/s]\u001b[A\n",
      "309it [00:34,  9.06it/s]\u001b[A\n",
      "310it [00:34,  9.04it/s]\u001b[A\n",
      "311it [00:34,  9.03it/s]\u001b[A\n",
      "312it [00:34,  9.00it/s]\u001b[A\n",
      "313it [00:34,  9.03it/s]\u001b[A\n",
      "314it [00:34,  9.02it/s]\u001b[A\n",
      "315it [00:35,  9.04it/s]\u001b[A\n",
      "316it [00:35,  9.01it/s]\u001b[A\n",
      "317it [00:35,  9.03it/s]\u001b[A\n",
      "318it [00:35,  9.03it/s]\u001b[A\n",
      "319it [00:35,  9.02it/s]\u001b[A\n",
      "320it [00:35,  8.99it/s]\u001b[A\n",
      "321it [00:35,  8.99it/s]\u001b[A\n",
      "322it [00:35,  9.00it/s]\u001b[A\n",
      "323it [00:35,  9.07it/s]\u001b[A"
     ]
    },
    {
     "name": "stdout",
     "output_type": "stream",
     "text": [
      "Epoch [1/3], Step [322/439], Running Loss: 0.0000, running Correct: [0/10304]\n"
     ]
    },
    {
     "name": "stderr",
     "output_type": "stream",
     "text": [
      "\n",
      "324it [00:36,  9.08it/s]\u001b[A\n",
      "325it [00:36,  9.11it/s]\u001b[A\n",
      "326it [00:36,  9.08it/s]\u001b[A\n",
      "327it [00:36,  9.06it/s]\u001b[A\n",
      "328it [00:36,  9.04it/s]\u001b[A\n",
      "329it [00:36,  9.01it/s]\u001b[A\n",
      "330it [00:36,  9.03it/s]\u001b[A\n",
      "331it [00:36,  9.00it/s]\u001b[A\n",
      "332it [00:36,  9.03it/s]\u001b[A\n",
      "333it [00:37,  9.02it/s]\u001b[A\n",
      "334it [00:37,  8.99it/s]\u001b[A\n",
      "335it [00:37,  9.01it/s]\u001b[A\n",
      "336it [00:37,  9.01it/s]\u001b[A\n",
      "337it [00:37,  9.01it/s]\u001b[A\n",
      "338it [00:37,  8.99it/s]\u001b[A\n",
      "339it [00:37,  8.99it/s]\u001b[A\n",
      "340it [00:37,  9.02it/s]\u001b[A\n",
      "341it [00:37,  9.04it/s]\u001b[A\n",
      "342it [00:38,  9.10it/s]\u001b[A\n",
      "343it [00:38,  9.12it/s]\u001b[A"
     ]
    },
    {
     "name": "stdout",
     "output_type": "stream",
     "text": [
      "Epoch [1/3], Step [342/439], Running Loss: 0.0000, running Correct: [0/10944]\n"
     ]
    },
    {
     "name": "stderr",
     "output_type": "stream",
     "text": [
      "\n",
      "344it [00:38,  9.11it/s]\u001b[A\n",
      "345it [00:38,  9.06it/s]\u001b[A\n",
      "346it [00:38,  9.04it/s]\u001b[A\n",
      "347it [00:38,  9.06it/s]\u001b[A\n",
      "348it [00:38,  9.02it/s]\u001b[A\n",
      "349it [00:38,  8.99it/s]\u001b[A\n",
      "350it [00:38,  8.99it/s]\u001b[A\n",
      "351it [00:39,  9.02it/s]\u001b[A\n",
      "352it [00:39,  9.02it/s]\u001b[A\n",
      "353it [00:39,  9.04it/s]\u001b[A\n",
      "354it [00:39,  9.03it/s]\u001b[A\n",
      "355it [00:39,  9.02it/s]\u001b[A\n",
      "356it [00:39,  9.02it/s]\u001b[A\n",
      "357it [00:39,  9.01it/s]\u001b[A\n",
      "358it [00:39,  8.99it/s]\u001b[A\n",
      "359it [00:39,  9.04it/s]\u001b[A\n",
      "360it [00:40,  9.10it/s]\u001b[A\n",
      "361it [00:40,  9.15it/s]\u001b[A\n",
      "362it [00:40,  9.11it/s]\u001b[A\n",
      "363it [00:40,  9.08it/s]\u001b[A"
     ]
    },
    {
     "name": "stdout",
     "output_type": "stream",
     "text": [
      "Epoch [1/3], Step [362/439], Running Loss: 0.0000, running Correct: [0/11584]\n"
     ]
    },
    {
     "name": "stderr",
     "output_type": "stream",
     "text": [
      "\n",
      "364it [00:40,  9.06it/s]\u001b[A\n",
      "365it [00:40,  9.04it/s]\u001b[A\n",
      "366it [00:40,  9.03it/s]\u001b[A\n",
      "367it [00:40,  9.02it/s]\u001b[A\n",
      "368it [00:40,  9.04it/s]\u001b[A\n",
      "369it [00:41,  9.01it/s]\u001b[A\n",
      "370it [00:41,  9.01it/s]\u001b[A\n",
      "371it [00:41,  9.01it/s]\u001b[A\n",
      "372it [00:41,  8.98it/s]\u001b[A\n",
      "373it [00:41,  8.99it/s]\u001b[A\n",
      "374it [00:41,  9.00it/s]\u001b[A\n",
      "375it [00:41,  9.00it/s]\u001b[A\n",
      "376it [00:41,  9.00it/s]\u001b[A\n",
      "377it [00:41,  9.05it/s]\u001b[A\n",
      "378it [00:42,  9.11it/s]\u001b[A\n",
      "379it [00:42,  9.13it/s]\u001b[A\n",
      "380it [00:42,  9.12it/s]\u001b[A\n",
      "381it [00:42,  9.08it/s]\u001b[A\n",
      "382it [00:42,  9.04it/s]\u001b[A\n",
      "383it [00:42,  9.03it/s]\u001b[A"
     ]
    },
    {
     "name": "stdout",
     "output_type": "stream",
     "text": [
      "Epoch [1/3], Step [382/439], Running Loss: 0.0000, running Correct: [0/12224]\n"
     ]
    },
    {
     "name": "stderr",
     "output_type": "stream",
     "text": [
      "\n",
      "384it [00:42,  9.05it/s]\u001b[A\n",
      "385it [00:42,  9.01it/s]\u001b[A\n",
      "386it [00:42,  9.01it/s]\u001b[A\n",
      "387it [00:43,  9.01it/s]\u001b[A\n",
      "388it [00:43,  9.01it/s]\u001b[A\n",
      "389it [00:43,  9.01it/s]\u001b[A\n",
      "390it [00:43,  9.03it/s]\u001b[A\n",
      "391it [00:43,  9.03it/s]\u001b[A\n",
      "392it [00:43,  9.00it/s]\u001b[A\n",
      "393it [00:43,  9.02it/s]\u001b[A\n",
      "394it [00:43,  9.02it/s]\u001b[A\n",
      "395it [00:43,  9.06it/s]\u001b[A\n",
      "396it [00:44,  9.07it/s]\u001b[A\n",
      "397it [00:44,  9.12it/s]\u001b[A\n",
      "398it [00:44,  9.09it/s]\u001b[A\n",
      "399it [00:44,  9.06it/s]\u001b[A\n",
      "400it [00:44,  9.05it/s]\u001b[A\n",
      "401it [00:44,  9.04it/s]\u001b[A\n",
      "402it [00:44,  9.03it/s]\u001b[A\n",
      "403it [00:44,  9.02it/s]\u001b[A"
     ]
    },
    {
     "name": "stdout",
     "output_type": "stream",
     "text": [
      "Epoch [1/3], Step [402/439], Running Loss: 0.0000, running Correct: [0/12864]\n"
     ]
    },
    {
     "name": "stderr",
     "output_type": "stream",
     "text": [
      "\n",
      "404it [00:44,  8.99it/s]\u001b[A\n",
      "405it [00:45,  9.00it/s]\u001b[A\n",
      "406it [00:45,  9.02it/s]\u001b[A\n",
      "407it [00:45,  8.99it/s]\u001b[A\n",
      "408it [00:45,  9.00it/s]\u001b[A\n",
      "409it [00:45,  9.00it/s]\u001b[A\n",
      "410it [00:45,  9.00it/s]\u001b[A\n",
      "411it [00:45,  9.01it/s]\u001b[A\n",
      "412it [00:45,  8.98it/s]\u001b[A\n",
      "413it [00:45,  9.04it/s]\u001b[A\n",
      "414it [00:46,  9.08it/s]\u001b[A\n",
      "415it [00:46,  9.10it/s]\u001b[A\n",
      "416it [00:46,  9.10it/s]\u001b[A\n",
      "417it [00:46,  9.07it/s]\u001b[A\n",
      "418it [00:46,  9.03it/s]\u001b[A\n",
      "419it [00:46,  9.05it/s]\u001b[A\n",
      "420it [00:46,  9.01it/s]\u001b[A\n",
      "421it [00:46,  9.01it/s]\u001b[A\n",
      "422it [00:46,  9.01it/s]\u001b[A\n",
      "423it [00:47,  9.01it/s]\u001b[A"
     ]
    },
    {
     "name": "stdout",
     "output_type": "stream",
     "text": [
      "Epoch [1/3], Step [422/439], Running Loss: 0.0000, running Correct: [0/13504]\n"
     ]
    },
    {
     "name": "stderr",
     "output_type": "stream",
     "text": [
      "\n",
      "424it [00:47,  8.98it/s]\u001b[A\n",
      "425it [00:47,  9.01it/s]\u001b[A\n",
      "426it [00:47,  9.01it/s]\u001b[A\n",
      "427it [00:47,  9.01it/s]\u001b[A\n",
      "428it [00:47,  9.04it/s]\u001b[A\n",
      "429it [00:47,  9.00it/s]\u001b[A\n",
      "430it [00:47,  9.00it/s]\u001b[A\n",
      "431it [00:47,  9.03it/s]\u001b[A\n",
      "432it [00:48,  9.07it/s]\u001b[A\n",
      "433it [00:48,  9.10it/s]\u001b[A\n",
      "434it [00:48,  9.12it/s]\u001b[A\n",
      "435it [00:48,  9.06it/s]\u001b[A\n",
      "436it [00:48,  9.02it/s]\u001b[A\n",
      "437it [00:48,  9.02it/s]\u001b[A\n",
      "438it [00:48,  9.02it/s]\u001b[A\n",
      "439it [00:48,  8.99it/s]\u001b[A\n",
      " 33%|███▎      | 1/3 [00:48<01:37, 48.84s/it]"
     ]
    },
    {
     "name": "stdout",
     "output_type": "stream",
     "text": [
      "------ Starting Epoch [2/3] ------\n"
     ]
    },
    {
     "name": "stderr",
     "output_type": "stream",
     "text": [
      "\n",
      "0it [00:00, ?it/s]\u001b[A\n",
      "2it [00:00, 13.51it/s]\u001b[A"
     ]
    },
    {
     "name": "stdout",
     "output_type": "stream",
     "text": [
      "Epoch [2/3], Step [2/439], Running Loss: 0.0000, running Correct: [0/64]\n"
     ]
    },
    {
     "name": "stderr",
     "output_type": "stream",
     "text": [
      "\n",
      "4it [00:00, 10.47it/s]\u001b[A\n",
      "6it [00:00,  9.71it/s]\u001b[A\n",
      "7it [00:00,  9.52it/s]\u001b[A\n",
      "8it [00:00,  9.38it/s]\u001b[A\n",
      "9it [00:00,  9.28it/s]\u001b[A\n",
      "10it [00:01,  9.20it/s]\u001b[A\n",
      "11it [00:01,  9.22it/s]\u001b[A\n",
      "12it [00:01,  9.23it/s]\u001b[A\n",
      "13it [00:01,  9.19it/s]\u001b[A\n",
      "14it [00:01,  9.16it/s]\u001b[A\n",
      "15it [00:01,  9.11it/s]\u001b[A\n",
      "16it [00:01,  9.08it/s]\u001b[A\n",
      "17it [00:01,  9.04it/s]\u001b[A\n",
      "18it [00:01,  9.05it/s]\u001b[A\n",
      "19it [00:02,  9.04it/s]\u001b[A\n",
      "20it [00:02,  9.03it/s]\u001b[A\n",
      "21it [00:02,  9.02it/s]\u001b[A\n",
      "22it [00:02,  9.02it/s]\u001b[A\n",
      "23it [00:02,  8.99it/s]\u001b[A"
     ]
    },
    {
     "name": "stdout",
     "output_type": "stream",
     "text": [
      "Epoch [2/3], Step [22/439], Running Loss: 0.0000, running Correct: [0/704]\n"
     ]
    },
    {
     "name": "stderr",
     "output_type": "stream",
     "text": [
      "\n",
      "24it [00:02,  9.02it/s]\u001b[A\n",
      "25it [00:02,  8.99it/s]\u001b[A\n",
      "26it [00:02,  9.00it/s]\u001b[A\n",
      "27it [00:02,  9.00it/s]\u001b[A\n",
      "28it [00:03,  9.00it/s]\u001b[A\n",
      "29it [00:03,  9.03it/s]\u001b[A\n",
      "30it [00:03,  9.12it/s]\u001b[A\n",
      "31it [00:03,  9.11it/s]\u001b[A\n",
      "32it [00:03,  9.05it/s]\u001b[A\n",
      "33it [00:03,  9.06it/s]\u001b[A\n",
      "34it [00:03,  9.02it/s]\u001b[A\n",
      "35it [00:03,  8.99it/s]\u001b[A\n",
      "36it [00:03,  9.00it/s]\u001b[A\n",
      "37it [00:04,  9.00it/s]\u001b[A\n",
      "38it [00:04,  9.00it/s]\u001b[A\n",
      "39it [00:04,  8.98it/s]\u001b[A\n",
      "40it [00:04,  8.99it/s]\u001b[A\n",
      "41it [00:04,  8.99it/s]\u001b[A\n",
      "42it [00:04,  8.97it/s]\u001b[A\n",
      "43it [00:04,  8.98it/s]\u001b[A"
     ]
    },
    {
     "name": "stdout",
     "output_type": "stream",
     "text": [
      "Epoch [2/3], Step [42/439], Running Loss: 0.0000, running Correct: [0/1344]\n"
     ]
    },
    {
     "name": "stderr",
     "output_type": "stream",
     "text": [
      "\n",
      "44it [00:04,  8.97it/s]\u001b[A\n",
      "45it [00:04,  8.98it/s]\u001b[A\n",
      "46it [00:05,  8.99it/s]\u001b[A\n",
      "47it [00:05,  9.06it/s]\u001b[A\n",
      "48it [00:05,  9.10it/s]\u001b[A\n",
      "49it [00:05,  9.12it/s]\u001b[A\n",
      "50it [00:05,  9.06it/s]\u001b[A\n",
      "51it [00:05,  9.02it/s]\u001b[A\n",
      "52it [00:05,  9.02it/s]\u001b[A\n",
      "53it [00:05,  9.01it/s]\u001b[A\n",
      "54it [00:05,  9.01it/s]\u001b[A\n",
      "55it [00:06,  8.99it/s]\u001b[A\n",
      "56it [00:06,  8.99it/s]\u001b[A\n",
      "57it [00:06,  9.00it/s]\u001b[A\n",
      "58it [00:06,  9.00it/s]\u001b[A\n",
      "59it [00:06,  9.00it/s]\u001b[A\n",
      "60it [00:06,  9.00it/s]\u001b[A\n",
      "61it [00:06,  8.98it/s]\u001b[A\n",
      "62it [00:06,  8.99it/s]\u001b[A\n",
      "63it [00:06,  8.99it/s]\u001b[A"
     ]
    },
    {
     "name": "stdout",
     "output_type": "stream",
     "text": [
      "Epoch [2/3], Step [62/439], Running Loss: 0.0000, running Correct: [0/1984]\n"
     ]
    },
    {
     "name": "stderr",
     "output_type": "stream",
     "text": [
      "\n",
      "64it [00:07,  9.00it/s]\u001b[A\n",
      "65it [00:07,  9.05it/s]\u001b[A\n",
      "66it [00:07,  9.11it/s]\u001b[A\n",
      "67it [00:07,  9.10it/s]\u001b[A\n",
      "68it [00:07,  9.08it/s]\u001b[A\n",
      "69it [00:07,  9.06it/s]\u001b[A\n",
      "70it [00:07,  9.02it/s]\u001b[A\n",
      "71it [00:07,  9.01it/s]\u001b[A\n",
      "72it [00:07,  8.99it/s]\u001b[A\n",
      "73it [00:08,  8.99it/s]\u001b[A\n",
      "74it [00:08,  9.00it/s]\u001b[A\n",
      "75it [00:08,  9.00it/s]\u001b[A\n",
      "76it [00:08,  9.00it/s]\u001b[A\n",
      "77it [00:08,  9.00it/s]\u001b[A\n",
      "78it [00:08,  9.00it/s]\u001b[A\n",
      "79it [00:08,  8.98it/s]\u001b[A\n",
      "80it [00:08,  8.99it/s]\u001b[A\n",
      "81it [00:08,  8.97it/s]\u001b[A\n",
      "82it [00:09,  9.01it/s]\u001b[A\n",
      "83it [00:09,  9.03it/s]\u001b[A"
     ]
    },
    {
     "name": "stdout",
     "output_type": "stream",
     "text": [
      "Epoch [2/3], Step [82/439], Running Loss: 0.0000, running Correct: [0/2624]\n"
     ]
    },
    {
     "name": "stderr",
     "output_type": "stream",
     "text": [
      "\n",
      "84it [00:09,  9.07it/s]\u001b[A\n",
      "85it [00:09,  9.13it/s]\u001b[A\n",
      "86it [00:09,  9.09it/s]\u001b[A\n",
      "87it [00:09,  9.06it/s]\u001b[A\n",
      "88it [00:09,  9.02it/s]\u001b[A\n",
      "89it [00:09,  9.02it/s]\u001b[A\n",
      "90it [00:09,  8.99it/s]\u001b[A\n",
      "91it [00:10,  9.00it/s]\u001b[A\n",
      "92it [00:10,  9.00it/s]\u001b[A\n",
      "93it [00:10,  8.98it/s]\u001b[A\n",
      "94it [00:10,  8.99it/s]\u001b[A\n",
      "95it [00:10,  8.99it/s]\u001b[A\n",
      "96it [00:10,  8.97it/s]\u001b[A\n",
      "97it [00:10,  9.01it/s]\u001b[A\n",
      "98it [00:10,  8.98it/s]\u001b[A\n",
      "99it [00:10,  8.97it/s]\u001b[A\n",
      "100it [00:11,  8.98it/s]\u001b[A\n",
      "101it [00:11,  9.03it/s]\u001b[A\n",
      "102it [00:11,  9.08it/s]\u001b[A\n",
      "103it [00:11,  9.11it/s]\u001b[A"
     ]
    },
    {
     "name": "stdout",
     "output_type": "stream",
     "text": [
      "Epoch [2/3], Step [102/439], Running Loss: 0.0000, running Correct: [0/3264]\n"
     ]
    },
    {
     "name": "stderr",
     "output_type": "stream",
     "text": [
      "\n",
      "104it [00:11,  9.08it/s]\u001b[A\n",
      "105it [00:11,  9.03it/s]\u001b[A\n",
      "106it [00:11,  9.02it/s]\u001b[A\n",
      "107it [00:11,  9.02it/s]\u001b[A\n",
      "108it [00:11,  8.97it/s]\u001b[A\n",
      "109it [00:12,  9.00it/s]\u001b[A\n",
      "110it [00:12,  8.98it/s]\u001b[A\n",
      "111it [00:12,  8.99it/s]\u001b[A\n",
      "112it [00:12,  8.99it/s]\u001b[A\n",
      "113it [00:12,  9.00it/s]\u001b[A\n",
      "114it [00:12,  9.00it/s]\u001b[A\n",
      "115it [00:12,  8.98it/s]\u001b[A\n",
      "116it [00:12,  8.96it/s]\u001b[A\n",
      "117it [00:12,  8.95it/s]\u001b[A\n",
      "118it [00:13,  8.97it/s]\u001b[A\n",
      "119it [00:13,  9.03it/s]\u001b[A\n",
      "120it [00:13,  9.10it/s]\u001b[A\n",
      "121it [00:13,  9.12it/s]\u001b[A\n",
      "122it [00:13,  9.04it/s]\u001b[A\n",
      "123it [00:13,  9.05it/s]\u001b[A"
     ]
    },
    {
     "name": "stdout",
     "output_type": "stream",
     "text": [
      "Epoch [2/3], Step [122/439], Running Loss: 0.0000, running Correct: [0/3904]\n"
     ]
    },
    {
     "name": "stderr",
     "output_type": "stream",
     "text": [
      "\n",
      "124it [00:13,  9.01it/s]\u001b[A\n",
      "125it [00:13,  9.01it/s]\u001b[A\n",
      "126it [00:13,  9.01it/s]\u001b[A\n",
      "127it [00:14,  9.03it/s]\u001b[A\n",
      "128it [00:14,  9.00it/s]\u001b[A\n",
      "129it [00:14,  9.00it/s]\u001b[A\n",
      "130it [00:14,  9.03it/s]\u001b[A\n",
      "131it [00:14,  9.02it/s]\u001b[A\n",
      "132it [00:14,  8.99it/s]\u001b[A\n",
      "133it [00:14,  9.02it/s]\u001b[A\n",
      "134it [00:14,  9.02it/s]\u001b[A\n",
      "135it [00:14,  9.01it/s]\u001b[A\n",
      "136it [00:15,  9.01it/s]\u001b[A\n",
      "137it [00:15,  9.04it/s]\u001b[A\n",
      "138it [00:15,  9.10it/s]\u001b[A\n",
      "139it [00:15,  9.12it/s]\u001b[A\n",
      "140it [00:15,  9.06it/s]\u001b[A\n",
      "141it [00:15,  9.05it/s]\u001b[A\n",
      "142it [00:15,  9.01it/s]\u001b[A\n",
      "143it [00:15,  9.03it/s]\u001b[A"
     ]
    },
    {
     "name": "stdout",
     "output_type": "stream",
     "text": [
      "Epoch [2/3], Step [142/439], Running Loss: 0.0000, running Correct: [0/4544]\n"
     ]
    },
    {
     "name": "stderr",
     "output_type": "stream",
     "text": [
      "\n",
      "144it [00:15,  9.00it/s]\u001b[A\n",
      "145it [00:16,  9.03it/s]\u001b[A\n",
      "146it [00:16,  9.00it/s]\u001b[A\n",
      "147it [00:16,  9.00it/s]\u001b[A\n",
      "148it [00:16,  9.00it/s]\u001b[A\n",
      "149it [00:16,  9.00it/s]\u001b[A\n",
      "150it [00:16,  8.98it/s]\u001b[A\n",
      "151it [00:16,  8.99it/s]\u001b[A\n",
      "152it [00:16,  8.99it/s]\u001b[A\n",
      "153it [00:16,  8.97it/s]\u001b[A\n",
      "154it [00:17,  8.98it/s]\u001b[A\n",
      "155it [00:17,  9.04it/s]\u001b[A\n",
      "156it [00:17,  9.08it/s]\u001b[A\n",
      "157it [00:17,  9.11it/s]\u001b[A\n",
      "158it [00:17,  9.05it/s]\u001b[A\n",
      "159it [00:17,  9.04it/s]\u001b[A\n",
      "160it [00:17,  9.03it/s]\u001b[A\n",
      "161it [00:17,  9.02it/s]\u001b[A\n",
      "162it [00:17,  9.02it/s]\u001b[A\n",
      "163it [00:17,  8.99it/s]\u001b[A"
     ]
    },
    {
     "name": "stdout",
     "output_type": "stream",
     "text": [
      "Epoch [2/3], Step [162/439], Running Loss: 0.0000, running Correct: [0/5184]\n"
     ]
    },
    {
     "name": "stderr",
     "output_type": "stream",
     "text": [
      "\n",
      "164it [00:18,  9.00it/s]\u001b[A\n",
      "165it [00:18,  8.97it/s]\u001b[A\n",
      "166it [00:18,  9.01it/s]\u001b[A\n",
      "167it [00:18,  8.98it/s]\u001b[A\n",
      "168it [00:18,  8.99it/s]\u001b[A\n",
      "169it [00:18,  8.99it/s]\u001b[A\n",
      "170it [00:18,  9.00it/s]\u001b[A\n",
      "171it [00:18,  9.00it/s]\u001b[A\n",
      "172it [00:18,  8.98it/s]\u001b[A\n",
      "173it [00:19,  9.01it/s]\u001b[A\n",
      "174it [00:19,  9.08it/s]\u001b[A\n",
      "175it [00:19,  9.13it/s]\u001b[A\n",
      "176it [00:19,  9.10it/s]\u001b[A\n",
      "177it [00:19,  9.07it/s]\u001b[A\n",
      "178it [00:19,  9.05it/s]\u001b[A\n",
      "179it [00:19,  9.04it/s]\u001b[A\n",
      "180it [00:19,  9.00it/s]\u001b[A\n",
      "181it [00:19,  9.00it/s]\u001b[A\n",
      "182it [00:20,  9.01it/s]\u001b[A\n",
      "183it [00:20,  9.03it/s]\u001b[A"
     ]
    },
    {
     "name": "stdout",
     "output_type": "stream",
     "text": [
      "Epoch [2/3], Step [182/439], Running Loss: 0.0000, running Correct: [0/5824]\n"
     ]
    },
    {
     "name": "stderr",
     "output_type": "stream",
     "text": [
      "\n",
      "184it [00:20,  9.00it/s]\u001b[A\n",
      "185it [00:20,  8.98it/s]\u001b[A\n",
      "186it [00:20,  9.01it/s]\u001b[A\n",
      "187it [00:20,  9.01it/s]\u001b[A\n",
      "188it [00:20,  8.96it/s]\u001b[A\n",
      "189it [00:20,  9.00it/s]\u001b[A\n",
      "190it [00:20,  8.98it/s]\u001b[A\n",
      "191it [00:21,  9.01it/s]\u001b[A\n",
      "192it [00:21,  9.08it/s]\u001b[A\n",
      "193it [00:21,  9.11it/s]\u001b[A\n",
      "194it [00:21,  9.08it/s]\u001b[A\n",
      "195it [00:21,  9.06it/s]\u001b[A\n",
      "196it [00:21,  9.04it/s]\u001b[A\n",
      "197it [00:21,  9.03it/s]\u001b[A\n",
      "198it [00:21,  9.00it/s]\u001b[A\n",
      "199it [00:21,  9.00it/s]\u001b[A\n",
      "200it [00:22,  9.00it/s]\u001b[A\n",
      "201it [00:22,  8.98it/s]\u001b[A\n",
      "202it [00:22,  8.99it/s]\u001b[A\n",
      "203it [00:22,  8.99it/s]\u001b[A"
     ]
    },
    {
     "name": "stdout",
     "output_type": "stream",
     "text": [
      "Epoch [2/3], Step [202/439], Running Loss: 0.0000, running Correct: [0/6464]\n"
     ]
    },
    {
     "name": "stderr",
     "output_type": "stream",
     "text": [
      "\n",
      "204it [00:22,  9.00it/s]\u001b[A\n",
      "205it [00:22,  9.00it/s]\u001b[A\n",
      "206it [00:22,  8.99it/s]\u001b[A\n",
      "207it [00:22,  9.00it/s]\u001b[A\n",
      "208it [00:22,  9.00it/s]\u001b[A\n",
      "209it [00:23,  9.03it/s]\u001b[A\n",
      "210it [00:23,  9.10it/s]\u001b[A\n",
      "211it [00:23,  9.09it/s]\u001b[A\n",
      "212it [00:23,  9.09it/s]\u001b[A\n",
      "213it [00:23,  9.04it/s]\u001b[A\n",
      "214it [00:23,  9.03it/s]\u001b[A\n",
      "215it [00:23,  9.00it/s]\u001b[A\n",
      "216it [00:23,  9.03it/s]\u001b[A\n",
      "217it [00:23,  9.02it/s]\u001b[A\n",
      "218it [00:24,  8.99it/s]\u001b[A\n",
      "219it [00:24,  9.00it/s]\u001b[A\n",
      "220it [00:24,  9.00it/s]\u001b[A\n",
      "221it [00:24,  9.00it/s]\u001b[A\n",
      "222it [00:24,  9.00it/s]\u001b[A\n",
      "223it [00:24,  9.01it/s]\u001b[A"
     ]
    },
    {
     "name": "stdout",
     "output_type": "stream",
     "text": [
      "Epoch [2/3], Step [222/439], Running Loss: 0.0000, running Correct: [0/7104]\n"
     ]
    },
    {
     "name": "stderr",
     "output_type": "stream",
     "text": [
      "\n",
      "224it [00:24,  9.00it/s]\u001b[A\n",
      "225it [00:24,  8.98it/s]\u001b[A\n",
      "226it [00:24,  8.99it/s]\u001b[A\n",
      "227it [00:25,  9.04it/s]\u001b[A\n",
      "228it [00:25,  9.08it/s]\u001b[A\n",
      "229it [00:25,  9.11it/s]\u001b[A\n",
      "230it [00:25,  9.10it/s]\u001b[A\n",
      "231it [00:25,  9.07it/s]\u001b[A\n",
      "232it [00:25,  9.05it/s]\u001b[A\n",
      "233it [00:25,  9.04it/s]\u001b[A\n",
      "234it [00:25,  9.03it/s]\u001b[A\n",
      "235it [00:25,  9.02it/s]\u001b[A\n",
      "236it [00:26,  8.99it/s]\u001b[A\n",
      "237it [00:26,  9.00it/s]\u001b[A\n",
      "238it [00:26,  9.02it/s]\u001b[A\n",
      "239it [00:26,  8.99it/s]\u001b[A\n",
      "240it [00:26,  9.00it/s]\u001b[A\n",
      "241it [00:26,  8.98it/s]\u001b[A\n",
      "242it [00:26,  8.99it/s]\u001b[A\n",
      "243it [00:26,  8.99it/s]\u001b[A"
     ]
    },
    {
     "name": "stdout",
     "output_type": "stream",
     "text": [
      "Epoch [2/3], Step [242/439], Running Loss: 0.0000, running Correct: [0/7744]\n"
     ]
    },
    {
     "name": "stderr",
     "output_type": "stream",
     "text": [
      "\n",
      "244it [00:26,  9.02it/s]\u001b[A\n",
      "245it [00:27,  9.04it/s]\u001b[A\n",
      "246it [00:27,  9.08it/s]\u001b[A\n",
      "247it [00:27,  9.13it/s]\u001b[A\n",
      "248it [00:27,  9.09it/s]\u001b[A\n",
      "249it [00:27,  9.07it/s]\u001b[A\n",
      "250it [00:27,  9.03it/s]\u001b[A\n",
      "251it [00:27,  9.02it/s]\u001b[A\n",
      "252it [00:27,  8.99it/s]\u001b[A\n",
      "253it [00:27,  9.02it/s]\u001b[A\n",
      "254it [00:28,  9.02it/s]\u001b[A\n",
      "255it [00:28,  8.99it/s]\u001b[A\n",
      "256it [00:28,  8.97it/s]\u001b[A\n",
      "257it [00:28,  9.00it/s]\u001b[A\n",
      "258it [00:28,  8.98it/s]\u001b[A\n",
      "259it [00:28,  8.99it/s]\u001b[A\n",
      "260it [00:28,  8.97it/s]\u001b[A\n",
      "261it [00:28,  8.98it/s]\u001b[A\n",
      "262it [00:28,  8.99it/s]\u001b[A\n",
      "263it [00:29,  9.02it/s]\u001b[A"
     ]
    },
    {
     "name": "stdout",
     "output_type": "stream",
     "text": [
      "Epoch [2/3], Step [262/439], Running Loss: 0.0000, running Correct: [0/8384]\n"
     ]
    },
    {
     "name": "stderr",
     "output_type": "stream",
     "text": [
      "\n",
      "264it [00:29,  9.09it/s]\u001b[A\n",
      "265it [00:29,  9.09it/s]\u001b[A\n",
      "266it [00:29,  9.09it/s]\u001b[A\n",
      "267it [00:29,  9.06it/s]\u001b[A\n",
      "268it [00:29,  9.02it/s]\u001b[A\n",
      "269it [00:29,  9.02it/s]\u001b[A\n",
      "270it [00:29,  9.01it/s]\u001b[A\n",
      "271it [00:29,  9.03it/s]\u001b[A\n",
      "272it [00:30,  8.98it/s]\u001b[A\n",
      "273it [00:30,  8.99it/s]\u001b[A\n",
      "274it [00:30,  8.99it/s]\u001b[A\n",
      "275it [00:30,  8.99it/s]\u001b[A\n",
      "276it [00:30,  9.00it/s]\u001b[A\n",
      "277it [00:30,  9.00it/s]\u001b[A\n",
      "278it [00:30,  8.98it/s]\u001b[A\n",
      "279it [00:30,  8.99it/s]\u001b[A\n",
      "280it [00:30,  8.99it/s]\u001b[A\n",
      "281it [00:31,  9.02it/s]\u001b[A\n",
      "282it [00:31,  9.09it/s]\u001b[A\n",
      "283it [00:31,  9.09it/s]\u001b[A"
     ]
    },
    {
     "name": "stdout",
     "output_type": "stream",
     "text": [
      "Epoch [2/3], Step [282/439], Running Loss: 0.0000, running Correct: [0/9024]\n"
     ]
    },
    {
     "name": "stderr",
     "output_type": "stream",
     "text": [
      "\n",
      "284it [00:31,  9.11it/s]\u001b[A\n",
      "285it [00:31,  9.06it/s]\u001b[A\n",
      "286it [00:31,  9.02it/s]\u001b[A\n",
      "287it [00:31,  9.04it/s]\u001b[A\n",
      "288it [00:31,  9.02it/s]\u001b[A\n",
      "289it [00:31,  8.99it/s]\u001b[A\n",
      "290it [00:32,  9.00it/s]\u001b[A\n",
      "291it [00:32,  8.98it/s]\u001b[A\n",
      "292it [00:32,  8.99it/s]\u001b[A\n",
      "293it [00:32,  8.99it/s]\u001b[A\n",
      "294it [00:32,  9.00it/s]\u001b[A\n",
      "295it [00:32,  9.00it/s]\u001b[A\n",
      "296it [00:32,  9.00it/s]\u001b[A\n",
      "297it [00:32,  9.00it/s]\u001b[A\n",
      "298it [00:32,  9.01it/s]\u001b[A\n",
      "299it [00:33,  9.03it/s]\u001b[A\n",
      "300it [00:33,  9.10it/s]\u001b[A\n",
      "301it [00:33,  9.12it/s]\u001b[A\n",
      "302it [00:33,  9.08it/s]\u001b[A\n",
      "303it [00:33,  9.09it/s]\u001b[A"
     ]
    },
    {
     "name": "stdout",
     "output_type": "stream",
     "text": [
      "Epoch [2/3], Step [302/439], Running Loss: 0.0000, running Correct: [0/9664]\n"
     ]
    },
    {
     "name": "stderr",
     "output_type": "stream",
     "text": [
      "\n",
      "304it [00:33,  9.04it/s]\u001b[A\n",
      "305it [00:33,  9.01it/s]\u001b[A\n",
      "306it [00:33,  8.98it/s]\u001b[A\n",
      "307it [00:33,  9.01it/s]\u001b[A\n",
      "308it [00:34,  9.01it/s]\u001b[A\n",
      "309it [00:34,  9.01it/s]\u001b[A\n",
      "310it [00:34,  8.99it/s]\u001b[A\n",
      "311it [00:34,  9.01it/s]\u001b[A\n",
      "312it [00:34,  9.01it/s]\u001b[A\n",
      "313it [00:34,  8.99it/s]\u001b[A\n",
      "314it [00:34,  9.02it/s]\u001b[A\n",
      "315it [00:34,  9.02it/s]\u001b[A\n",
      "316it [00:34,  9.01it/s]\u001b[A\n",
      "317it [00:35,  9.01it/s]\u001b[A\n",
      "318it [00:35,  9.06it/s]\u001b[A\n",
      "319it [00:35,  9.09it/s]\u001b[A\n",
      "320it [00:35,  9.08it/s]\u001b[A\n",
      "321it [00:35,  9.06it/s]\u001b[A\n",
      "322it [00:35,  9.02it/s]\u001b[A\n",
      "323it [00:35,  9.02it/s]\u001b[A"
     ]
    },
    {
     "name": "stdout",
     "output_type": "stream",
     "text": [
      "Epoch [2/3], Step [322/439], Running Loss: 0.0000, running Correct: [0/10304]\n"
     ]
    },
    {
     "name": "stderr",
     "output_type": "stream",
     "text": [
      "\n",
      "324it [00:35,  9.01it/s]\u001b[A\n",
      "325it [00:35,  9.01it/s]\u001b[A\n",
      "326it [00:36,  8.99it/s]\u001b[A\n",
      "327it [00:36,  9.02it/s]\u001b[A\n",
      "328it [00:36,  9.01it/s]\u001b[A\n",
      "329it [00:36,  9.01it/s]\u001b[A\n",
      "330it [00:36,  9.01it/s]\u001b[A\n",
      "331it [00:36,  8.98it/s]\u001b[A\n",
      "332it [00:36,  9.02it/s]\u001b[A\n",
      "333it [00:36,  9.01it/s]\u001b[A\n",
      "334it [00:36,  8.98it/s]\u001b[A\n",
      "335it [00:37,  8.99it/s]\u001b[A\n",
      "336it [00:37,  9.05it/s]\u001b[A\n",
      "337it [00:37,  9.11it/s]\u001b[A\n",
      "338it [00:37,  9.08it/s]\u001b[A\n",
      "339it [00:37,  9.08it/s]\u001b[A\n",
      "340it [00:37,  9.06it/s]\u001b[A\n",
      "341it [00:37,  9.02it/s]\u001b[A\n",
      "342it [00:37,  9.02it/s]\u001b[A\n",
      "343it [00:37,  9.01it/s]\u001b[A"
     ]
    },
    {
     "name": "stdout",
     "output_type": "stream",
     "text": [
      "Epoch [2/3], Step [342/439], Running Loss: 0.0000, running Correct: [0/10944]\n"
     ]
    },
    {
     "name": "stderr",
     "output_type": "stream",
     "text": [
      "\n",
      "344it [00:38,  9.01it/s]\u001b[A\n",
      "345it [00:38,  9.01it/s]\u001b[A\n",
      "346it [00:38,  9.01it/s]\u001b[A\n",
      "347it [00:38,  8.98it/s]\u001b[A\n",
      "348it [00:38,  9.00it/s]\u001b[A\n",
      "349it [00:38,  8.98it/s]\u001b[A\n",
      "350it [00:38,  9.01it/s]\u001b[A\n",
      "351it [00:38,  9.01it/s]\u001b[A\n",
      "352it [00:38,  9.01it/s]\u001b[A\n",
      "353it [00:39,  9.01it/s]\u001b[A\n",
      "354it [00:39,  9.08it/s]\u001b[A\n",
      "355it [00:39,  9.11it/s]\u001b[A\n",
      "356it [00:39,  9.10it/s]\u001b[A\n",
      "357it [00:39,  9.07it/s]\u001b[A\n",
      "358it [00:39,  9.05it/s]\u001b[A\n",
      "359it [00:39,  9.04it/s]\u001b[A\n",
      "360it [00:39,  9.01it/s]\u001b[A\n",
      "361it [00:39,  9.01it/s]\u001b[A\n",
      "362it [00:40,  9.00it/s]\u001b[A\n",
      "363it [00:40,  8.98it/s]\u001b[A"
     ]
    },
    {
     "name": "stdout",
     "output_type": "stream",
     "text": [
      "Epoch [2/3], Step [362/439], Running Loss: 0.0000, running Correct: [0/11584]\n"
     ]
    },
    {
     "name": "stderr",
     "output_type": "stream",
     "text": [
      "\n",
      "364it [00:40,  9.01it/s]\u001b[A\n",
      "365it [00:40,  9.01it/s]\u001b[A\n",
      "366it [00:40,  9.01it/s]\u001b[A\n",
      "367it [00:40,  9.01it/s]\u001b[A\n",
      "368it [00:40,  9.01it/s]\u001b[A\n",
      "369it [00:40,  9.01it/s]\u001b[A\n",
      "370it [00:40,  9.01it/s]\u001b[A\n",
      "371it [00:41,  9.03it/s]\u001b[A\n",
      "372it [00:41,  9.05it/s]\u001b[A\n",
      "373it [00:41,  9.09it/s]\u001b[A\n",
      "374it [00:41,  9.11it/s]\u001b[A\n",
      "375it [00:41,  9.08it/s]\u001b[A\n",
      "376it [00:41,  9.03it/s]\u001b[A\n",
      "377it [00:41,  9.00it/s]\u001b[A\n",
      "378it [00:41,  9.00it/s]\u001b[A\n",
      "379it [00:41,  9.01it/s]\u001b[A\n",
      "380it [00:42,  8.98it/s]\u001b[A\n",
      "381it [00:42,  8.99it/s]\u001b[A\n",
      "382it [00:42,  8.99it/s]\u001b[A\n",
      "383it [00:42,  9.00it/s]\u001b[A"
     ]
    },
    {
     "name": "stdout",
     "output_type": "stream",
     "text": [
      "Epoch [2/3], Step [382/439], Running Loss: 0.0000, running Correct: [0/12224]\n"
     ]
    },
    {
     "name": "stderr",
     "output_type": "stream",
     "text": [
      "\n",
      "384it [00:42,  9.00it/s]\u001b[A\n",
      "385it [00:42,  9.00it/s]\u001b[A\n",
      "386it [00:42,  9.00it/s]\u001b[A\n",
      "387it [00:42,  8.98it/s]\u001b[A\n",
      "388it [00:42,  8.99it/s]\u001b[A\n",
      "389it [00:43,  8.99it/s]\u001b[A\n",
      "390it [00:43,  9.05it/s]\u001b[A\n",
      "391it [00:43,  9.11it/s]\u001b[A\n",
      "392it [00:43,  9.10it/s]\u001b[A\n",
      "393it [00:43,  9.05it/s]\u001b[A\n",
      "394it [00:43,  9.01it/s]\u001b[A\n",
      "395it [00:43,  8.99it/s]\u001b[A\n",
      "396it [00:43,  8.99it/s]\u001b[A\n",
      "397it [00:43,  9.00it/s]\u001b[A\n",
      "398it [00:44,  8.99it/s]\u001b[A\n",
      "399it [00:44,  9.01it/s]\u001b[A\n",
      "400it [00:44,  9.01it/s]\u001b[A\n",
      "401it [00:44,  9.01it/s]\u001b[A\n",
      "402it [00:44,  8.98it/s]\u001b[A\n",
      "403it [00:44,  8.99it/s]\u001b[A"
     ]
    },
    {
     "name": "stdout",
     "output_type": "stream",
     "text": [
      "Epoch [2/3], Step [402/439], Running Loss: 0.0000, running Correct: [0/12864]\n"
     ]
    },
    {
     "name": "stderr",
     "output_type": "stream",
     "text": [
      "\n",
      "404it [00:44,  8.99it/s]\u001b[A\n",
      "405it [00:44,  9.00it/s]\u001b[A\n",
      "406it [00:44,  9.00it/s]\u001b[A\n",
      "407it [00:45,  8.98it/s]\u001b[A\n",
      "408it [00:45,  9.06it/s]\u001b[A\n",
      "409it [00:45,  9.09it/s]\u001b[A\n",
      "410it [00:45,  9.09it/s]\u001b[A\n",
      "411it [00:45,  9.07it/s]\u001b[A\n",
      "412it [00:45,  9.00it/s]\u001b[A\n",
      "413it [00:45,  9.02it/s]\u001b[A\n",
      "414it [00:45,  9.00it/s]\u001b[A\n",
      "415it [00:45,  9.02it/s]\u001b[A\n",
      "416it [00:46,  9.00it/s]\u001b[A\n",
      "417it [00:46,  8.97it/s]\u001b[A\n",
      "418it [00:46,  9.01it/s]\u001b[A\n",
      "419it [00:46,  9.01it/s]\u001b[A\n",
      "420it [00:46,  8.98it/s]\u001b[A\n",
      "421it [00:46,  9.01it/s]\u001b[A\n",
      "422it [00:46,  8.99it/s]\u001b[A\n",
      "423it [00:46,  8.98it/s]\u001b[A"
     ]
    },
    {
     "name": "stdout",
     "output_type": "stream",
     "text": [
      "Epoch [2/3], Step [422/439], Running Loss: 0.0000, running Correct: [0/13504]\n"
     ]
    },
    {
     "name": "stderr",
     "output_type": "stream",
     "text": [
      "\n",
      "424it [00:46,  9.02it/s]\u001b[A\n",
      "425it [00:47,  9.00it/s]\u001b[A\n",
      "426it [00:47,  9.05it/s]\u001b[A\n",
      "427it [00:47,  9.08it/s]\u001b[A\n",
      "428it [00:47,  9.11it/s]\u001b[A\n",
      "429it [00:47,  9.08it/s]\u001b[A\n",
      "430it [00:47,  9.06it/s]\u001b[A\n",
      "431it [00:47,  9.04it/s]\u001b[A\n",
      "432it [00:47,  9.03it/s]\u001b[A\n",
      "433it [00:47,  9.02it/s]\u001b[A\n",
      "434it [00:48,  9.00it/s]\u001b[A\n",
      "435it [00:48,  9.00it/s]\u001b[A\n",
      "436it [00:48,  9.03it/s]\u001b[A\n",
      "437it [00:48,  9.00it/s]\u001b[A\n",
      "438it [00:48,  8.98it/s]\u001b[A\n",
      "439it [00:48,  9.03it/s]\u001b[A\n",
      " 67%|██████▋   | 2/3 [01:37<00:48, 48.70s/it]"
     ]
    },
    {
     "name": "stdout",
     "output_type": "stream",
     "text": [
      "------ Starting Epoch [3/3] ------\n"
     ]
    },
    {
     "name": "stderr",
     "output_type": "stream",
     "text": [
      "\n",
      "0it [00:00, ?it/s]\u001b[A\n"
     ]
    },
    {
     "name": "stdout",
     "output_type": "stream",
     "text": [
      "Epoch [3/3], Step [2/439], Running Loss: 0.0000, running Correct: [0/64]\n"
     ]
    },
    {
     "name": "stderr",
     "output_type": "stream",
     "text": [
      "2it [00:00, 11.36it/s]\u001b[A\n",
      "4it [00:00,  9.88it/s]\u001b[A\n",
      "6it [00:00,  9.56it/s]\u001b[A\n",
      "7it [00:00,  9.46it/s]\u001b[A\n",
      "8it [00:00,  9.34it/s]\u001b[A\n",
      "9it [00:00,  9.23it/s]\u001b[A\n",
      "10it [00:01,  9.16it/s]\u001b[A\n",
      "11it [00:01,  9.12it/s]\u001b[A\n",
      "12it [00:01,  9.08it/s]\u001b[A\n",
      "13it [00:01,  9.06it/s]\u001b[A\n",
      "14it [00:01,  9.05it/s]\u001b[A\n",
      "15it [00:01,  9.02it/s]\u001b[A\n",
      "16it [00:01,  9.04it/s]\u001b[A\n",
      "17it [00:01,  9.03it/s]\u001b[A\n",
      "18it [00:01,  9.03it/s]\u001b[A\n",
      "19it [00:02,  8.98it/s]\u001b[A\n",
      "20it [00:02,  9.02it/s]\u001b[A\n",
      "21it [00:02,  9.01it/s]\u001b[A\n",
      "22it [00:02,  9.01it/s]\u001b[A\n",
      "23it [00:02,  9.04it/s]\u001b[A"
     ]
    },
    {
     "name": "stdout",
     "output_type": "stream",
     "text": [
      "Epoch [3/3], Step [22/439], Running Loss: 0.0000, running Correct: [0/704]\n"
     ]
    },
    {
     "name": "stderr",
     "output_type": "stream",
     "text": [
      "\n",
      "24it [00:02,  9.05it/s]\u001b[A\n",
      "25it [00:02,  9.11it/s]\u001b[A\n",
      "26it [00:02,  9.08it/s]\u001b[A\n",
      "27it [00:02,  9.06it/s]\u001b[A\n",
      "28it [00:03,  9.02it/s]\u001b[A\n",
      "29it [00:03,  9.04it/s]\u001b[A\n",
      "30it [00:03,  9.00it/s]\u001b[A\n",
      "31it [00:03,  8.98it/s]\u001b[A\n",
      "32it [00:03,  8.99it/s]\u001b[A\n",
      "33it [00:03,  8.99it/s]\u001b[A\n",
      "34it [00:03,  9.00it/s]\u001b[A\n",
      "35it [00:03,  9.00it/s]\u001b[A\n",
      "36it [00:03,  8.98it/s]\u001b[A\n",
      "37it [00:04,  8.98it/s]\u001b[A\n",
      "38it [00:04,  8.99it/s]\u001b[A\n",
      "39it [00:04,  9.00it/s]\u001b[A\n",
      "40it [00:04,  9.00it/s]\u001b[A\n",
      "41it [00:04,  9.00it/s]\u001b[A\n",
      "42it [00:04,  9.07it/s]\u001b[A\n",
      "43it [00:04,  9.10it/s]\u001b[A"
     ]
    },
    {
     "name": "stdout",
     "output_type": "stream",
     "text": [
      "Epoch [3/3], Step [42/439], Running Loss: 0.0000, running Correct: [0/1344]\n"
     ]
    },
    {
     "name": "stderr",
     "output_type": "stream",
     "text": [
      "\n",
      "44it [00:04,  9.07it/s]\u001b[A\n",
      "45it [00:04,  9.05it/s]\u001b[A\n",
      "46it [00:05,  9.01it/s]\u001b[A\n",
      "47it [00:05,  9.04it/s]\u001b[A\n",
      "48it [00:05,  9.00it/s]\u001b[A\n",
      "49it [00:05,  8.98it/s]\u001b[A\n",
      "50it [00:05,  8.99it/s]\u001b[A\n",
      "51it [00:05,  9.02it/s]\u001b[A\n",
      "52it [00:05,  9.01it/s]\u001b[A\n",
      "53it [00:05,  9.01it/s]\u001b[A\n",
      "54it [00:05,  9.01it/s]\u001b[A\n",
      "55it [00:06,  9.00it/s]\u001b[A\n",
      "56it [00:06,  9.01it/s]\u001b[A\n",
      "57it [00:06,  9.01it/s]\u001b[A\n",
      "58it [00:06,  8.98it/s]\u001b[A\n",
      "59it [00:06,  9.02it/s]\u001b[A\n",
      "60it [00:06,  9.06it/s]\u001b[A\n",
      "61it [00:06,  9.09it/s]\u001b[A\n",
      "62it [00:06,  9.09it/s]\u001b[A\n",
      "63it [00:06,  9.04it/s]\u001b[A"
     ]
    },
    {
     "name": "stdout",
     "output_type": "stream",
     "text": [
      "Epoch [3/3], Step [62/439], Running Loss: 0.0000, running Correct: [0/1984]\n"
     ]
    },
    {
     "name": "stderr",
     "output_type": "stream",
     "text": [
      "\n",
      "64it [00:07,  9.03it/s]\u001b[A\n",
      "65it [00:07,  9.05it/s]\u001b[A\n",
      "66it [00:07,  9.01it/s]\u001b[A\n",
      "67it [00:07,  9.03it/s]\u001b[A\n",
      "68it [00:07,  9.03it/s]\u001b[A\n",
      "69it [00:07,  9.00it/s]\u001b[A\n",
      "70it [00:07,  8.97it/s]\u001b[A\n",
      "71it [00:07,  9.01it/s]\u001b[A\n",
      "72it [00:07,  9.01it/s]\u001b[A\n",
      "73it [00:08,  9.01it/s]\u001b[A\n",
      "74it [00:08,  8.98it/s]\u001b[A\n",
      "75it [00:08,  8.99it/s]\u001b[A\n",
      "76it [00:08,  8.99it/s]\u001b[A\n",
      "77it [00:08,  9.00it/s]\u001b[A\n",
      "78it [00:08,  9.05it/s]\u001b[A\n",
      "79it [00:08,  9.11it/s]\u001b[A\n",
      "80it [00:08,  9.10it/s]\u001b[A\n",
      "81it [00:08,  9.03it/s]\u001b[A\n",
      "82it [00:09,  9.02it/s]\u001b[A\n",
      "83it [00:09,  9.01it/s]\u001b[A"
     ]
    },
    {
     "name": "stdout",
     "output_type": "stream",
     "text": [
      "Epoch [3/3], Step [82/439], Running Loss: 0.0000, running Correct: [0/2624]\n"
     ]
    },
    {
     "name": "stderr",
     "output_type": "stream",
     "text": [
      "\n",
      "84it [00:09,  8.99it/s]\u001b[A\n",
      "85it [00:09,  8.99it/s]\u001b[A\n",
      "86it [00:09,  8.97it/s]\u001b[A\n",
      "87it [00:09,  8.98it/s]\u001b[A\n",
      "88it [00:09,  8.99it/s]\u001b[A\n",
      "89it [00:09,  9.02it/s]\u001b[A\n",
      "90it [00:09,  8.99it/s]\u001b[A\n",
      "91it [00:10,  8.97it/s]\u001b[A\n",
      "92it [00:10,  9.01it/s]\u001b[A\n",
      "93it [00:10,  9.01it/s]\u001b[A\n",
      "94it [00:10,  8.98it/s]\u001b[A\n",
      "95it [00:10,  9.02it/s]\u001b[A\n",
      "96it [00:10,  9.06it/s]\u001b[A\n",
      "97it [00:10,  9.12it/s]\u001b[A\n",
      "98it [00:10,  9.11it/s]\u001b[A\n",
      "99it [00:10,  9.05it/s]\u001b[A\n",
      "100it [00:11,  9.04it/s]\u001b[A\n",
      "101it [00:11,  9.03it/s]\u001b[A\n",
      "102it [00:11,  9.00it/s]\u001b[A\n",
      "103it [00:11,  9.00it/s]\u001b[A"
     ]
    },
    {
     "name": "stdout",
     "output_type": "stream",
     "text": [
      "Epoch [3/3], Step [102/439], Running Loss: 0.0000, running Correct: [0/3264]\n"
     ]
    },
    {
     "name": "stderr",
     "output_type": "stream",
     "text": [
      "\n",
      "104it [00:11,  9.00it/s]\u001b[A\n",
      "105it [00:11,  8.98it/s]\u001b[A\n",
      "106it [00:11,  8.99it/s]\u001b[A\n",
      "107it [00:11,  8.97it/s]\u001b[A\n",
      "108it [00:11,  9.00it/s]\u001b[A\n",
      "109it [00:12,  9.01it/s]\u001b[A\n",
      "110it [00:12,  8.97it/s]\u001b[A\n",
      "111it [00:12,  8.98it/s]\u001b[A\n",
      "112it [00:12,  9.02it/s]\u001b[A\n",
      "113it [00:12,  9.01it/s]\u001b[A\n",
      "114it [00:12,  9.06it/s]\u001b[A\n",
      "115it [00:12,  9.09it/s]\u001b[A\n",
      "116it [00:12,  9.09it/s]\u001b[A\n",
      "117it [00:12,  9.04it/s]\u001b[A\n",
      "118it [00:13,  9.03it/s]\u001b[A\n",
      "119it [00:13,  9.02it/s]\u001b[A\n",
      "120it [00:13,  8.99it/s]\u001b[A\n",
      "121it [00:13,  9.00it/s]\u001b[A\n",
      "122it [00:13,  9.00it/s]\u001b[A\n",
      "123it [00:13,  9.00it/s]\u001b[A"
     ]
    },
    {
     "name": "stdout",
     "output_type": "stream",
     "text": [
      "Epoch [3/3], Step [122/439], Running Loss: 0.0000, running Correct: [0/3904]\n"
     ]
    },
    {
     "name": "stderr",
     "output_type": "stream",
     "text": [
      "\n",
      "124it [00:13,  9.00it/s]\u001b[A\n",
      "125it [00:13,  9.00it/s]\u001b[A\n",
      "126it [00:13,  8.98it/s]\u001b[A\n",
      "127it [00:14,  9.01it/s]\u001b[A\n",
      "128it [00:14,  9.01it/s]\u001b[A\n",
      "129it [00:14,  9.01it/s]\u001b[A\n",
      "130it [00:14,  9.01it/s]\u001b[A\n",
      "131it [00:14,  9.01it/s]\u001b[A\n",
      "132it [00:14,  9.06it/s]\u001b[A\n",
      "133it [00:14,  9.09it/s]\u001b[A\n",
      "134it [00:14,  9.09it/s]\u001b[A\n",
      "135it [00:14,  9.04it/s]\u001b[A\n",
      "136it [00:15,  9.03it/s]\u001b[A\n",
      "137it [00:15,  9.03it/s]\u001b[A\n",
      "138it [00:15,  9.02it/s]\u001b[A\n",
      "139it [00:15,  8.99it/s]\u001b[A\n",
      "140it [00:15,  9.02it/s]\u001b[A\n",
      "141it [00:15,  8.99it/s]\u001b[A\n",
      "142it [00:15,  8.97it/s]\u001b[A\n",
      "143it [00:15,  8.98it/s]\u001b[A"
     ]
    },
    {
     "name": "stdout",
     "output_type": "stream",
     "text": [
      "Epoch [3/3], Step [142/439], Running Loss: 0.0000, running Correct: [0/4544]\n"
     ]
    },
    {
     "name": "stderr",
     "output_type": "stream",
     "text": [
      "\n",
      "144it [00:15,  9.02it/s]\u001b[A\n",
      "145it [00:16,  8.99it/s]\u001b[A\n",
      "146it [00:16,  9.00it/s]\u001b[A\n",
      "147it [00:16,  9.01it/s]\u001b[A\n",
      "148it [00:16,  9.01it/s]\u001b[A\n",
      "149it [00:16,  9.01it/s]\u001b[A\n",
      "150it [00:16,  9.03it/s]\u001b[A\n",
      "151it [00:16,  9.10it/s]\u001b[A\n",
      "152it [00:16,  9.10it/s]\u001b[A\n",
      "153it [00:16,  9.07it/s]\u001b[A\n",
      "154it [00:17,  9.03it/s]\u001b[A\n",
      "155it [00:17,  9.02it/s]\u001b[A\n",
      "156it [00:17,  9.02it/s]\u001b[A\n",
      "157it [00:17,  9.01it/s]\u001b[A\n",
      "158it [00:17,  9.01it/s]\u001b[A\n",
      "159it [00:17,  9.01it/s]\u001b[A\n",
      "160it [00:17,  8.98it/s]\u001b[A\n",
      "161it [00:17,  8.99it/s]\u001b[A\n",
      "162it [00:17,  9.00it/s]\u001b[A\n",
      "163it [00:18,  8.98it/s]\u001b[A"
     ]
    },
    {
     "name": "stdout",
     "output_type": "stream",
     "text": [
      "Epoch [3/3], Step [162/439], Running Loss: 0.0000, running Correct: [0/5184]\n"
     ]
    },
    {
     "name": "stderr",
     "output_type": "stream",
     "text": [
      "\n",
      "164it [00:18,  8.99it/s]\u001b[A\n",
      "165it [00:18,  8.99it/s]\u001b[A\n",
      "166it [00:18,  8.97it/s]\u001b[A\n",
      "167it [00:18,  9.01it/s]\u001b[A\n",
      "168it [00:18,  9.06it/s]\u001b[A\n",
      "169it [00:18,  9.12it/s]\u001b[A\n",
      "170it [00:18,  9.11it/s]\u001b[A\n",
      "171it [00:18,  9.03it/s]\u001b[A\n",
      "172it [00:19,  9.02it/s]\u001b[A\n",
      "173it [00:19,  9.04it/s]\u001b[A\n",
      "174it [00:19,  8.98it/s]\u001b[A\n",
      "175it [00:19,  8.99it/s]\u001b[A\n",
      "176it [00:19,  9.02it/s]\u001b[A\n",
      "177it [00:19,  8.99it/s]\u001b[A\n",
      "178it [00:19,  9.00it/s]\u001b[A\n",
      "179it [00:19,  9.00it/s]\u001b[A\n",
      "180it [00:19,  8.95it/s]\u001b[A\n",
      "181it [00:20,  8.97it/s]\u001b[A\n",
      "182it [00:20,  8.98it/s]\u001b[A\n",
      "183it [00:20,  8.99it/s]\u001b[A"
     ]
    },
    {
     "name": "stdout",
     "output_type": "stream",
     "text": [
      "Epoch [3/3], Step [182/439], Running Loss: 0.0000, running Correct: [0/5824]\n"
     ]
    },
    {
     "name": "stderr",
     "output_type": "stream",
     "text": [
      "\n",
      "184it [00:20,  8.97it/s]\u001b[A\n",
      "185it [00:20,  9.00it/s]\u001b[A\n",
      "186it [00:20,  9.06it/s]\u001b[A\n",
      "187it [00:20,  9.09it/s]\u001b[A\n",
      "188it [00:20,  9.12it/s]\u001b[A\n",
      "189it [00:20,  9.06it/s]\u001b[A\n",
      "190it [00:21,  9.02it/s]\u001b[A\n",
      "191it [00:21,  9.04it/s]\u001b[A\n",
      "192it [00:21,  9.03it/s]\u001b[A\n",
      "193it [00:21,  9.02it/s]\u001b[A\n",
      "194it [00:21,  8.99it/s]\u001b[A\n",
      "195it [00:21,  9.02it/s]\u001b[A\n",
      "196it [00:21,  8.99it/s]\u001b[A\n",
      "197it [00:21,  9.02it/s]\u001b[A\n",
      "198it [00:21,  8.99it/s]\u001b[A\n",
      "199it [00:22,  9.00it/s]\u001b[A\n",
      "200it [00:22,  9.00it/s]\u001b[A\n",
      "201it [00:22,  8.98it/s]\u001b[A\n",
      "202it [00:22,  8.98it/s]\u001b[A\n",
      "203it [00:22,  8.99it/s]\u001b[A"
     ]
    },
    {
     "name": "stdout",
     "output_type": "stream",
     "text": [
      "Epoch [3/3], Step [202/439], Running Loss: 0.0000, running Correct: [0/6464]\n"
     ]
    },
    {
     "name": "stderr",
     "output_type": "stream",
     "text": [
      "\n",
      "204it [00:22,  9.05it/s]\u001b[A\n",
      "205it [00:22,  9.08it/s]\u001b[A\n",
      "206it [00:22,  9.11it/s]\u001b[A\n",
      "207it [00:22,  9.08it/s]\u001b[A\n",
      "208it [00:23,  9.03it/s]\u001b[A\n",
      "209it [00:23,  9.03it/s]\u001b[A\n",
      "210it [00:23,  9.00it/s]\u001b[A\n",
      "211it [00:23,  9.00it/s]\u001b[A\n",
      "212it [00:23,  9.00it/s]\u001b[A\n",
      "213it [00:23,  9.00it/s]\u001b[A\n",
      "214it [00:23,  9.01it/s]\u001b[A\n",
      "215it [00:23,  9.03it/s]\u001b[A\n",
      "216it [00:23,  9.02it/s]\u001b[A\n",
      "217it [00:24,  9.00it/s]\u001b[A\n",
      "218it [00:24,  9.00it/s]\u001b[A\n",
      "219it [00:24,  9.00it/s]\u001b[A\n",
      "220it [00:24,  9.00it/s]\u001b[A\n",
      "221it [00:24,  9.00it/s]\u001b[A\n",
      "222it [00:24,  9.05it/s]\u001b[A\n",
      "223it [00:24,  9.09it/s]\u001b[A"
     ]
    },
    {
     "name": "stdout",
     "output_type": "stream",
     "text": [
      "Epoch [3/3], Step [222/439], Running Loss: 0.0000, running Correct: [0/7104]\n"
     ]
    },
    {
     "name": "stderr",
     "output_type": "stream",
     "text": [
      "\n",
      "224it [00:24,  9.09it/s]\u001b[A\n",
      "225it [00:24,  9.04it/s]\u001b[A\n",
      "226it [00:25,  9.06it/s]\u001b[A\n",
      "227it [00:25,  8.99it/s]\u001b[A\n",
      "228it [00:25,  9.00it/s]\u001b[A\n",
      "229it [00:25,  9.02it/s]\u001b[A\n",
      "230it [00:25,  9.02it/s]\u001b[A\n",
      "231it [00:25,  8.99it/s]\u001b[A\n",
      "232it [00:25,  9.00it/s]\u001b[A\n",
      "233it [00:25,  9.00it/s]\u001b[A\n",
      "234it [00:25,  8.98it/s]\u001b[A\n",
      "235it [00:26,  8.99it/s]\u001b[A\n",
      "236it [00:26,  8.99it/s]\u001b[A\n",
      "237it [00:26,  9.00it/s]\u001b[A\n",
      "238it [00:26,  8.97it/s]\u001b[A\n",
      "239it [00:26,  9.01it/s]\u001b[A\n",
      "240it [00:26,  9.06it/s]\u001b[A\n",
      "241it [00:26,  9.12it/s]\u001b[A\n",
      "242it [00:26,  9.11it/s]\u001b[A\n",
      "243it [00:26,  9.05it/s]\u001b[A"
     ]
    },
    {
     "name": "stdout",
     "output_type": "stream",
     "text": [
      "Epoch [3/3], Step [242/439], Running Loss: 0.0000, running Correct: [0/7744]\n"
     ]
    },
    {
     "name": "stderr",
     "output_type": "stream",
     "text": [
      "\n",
      "244it [00:27,  9.04it/s]\u001b[A\n",
      "245it [00:27,  9.03it/s]\u001b[A\n",
      "246it [00:27,  9.00it/s]\u001b[A\n",
      "247it [00:27,  8.98it/s]\u001b[A\n",
      "248it [00:27,  8.99it/s]\u001b[A\n",
      "249it [00:27,  8.97it/s]\u001b[A\n",
      "250it [00:27,  9.00it/s]\u001b[A\n",
      "251it [00:27,  9.01it/s]\u001b[A\n",
      "252it [00:27,  8.98it/s]\u001b[A\n",
      "253it [00:28,  8.97it/s]\u001b[A\n",
      "254it [00:28,  8.95it/s]\u001b[A\n",
      "255it [00:28,  8.97it/s]\u001b[A\n",
      "256it [00:28,  8.96it/s]\u001b[A\n",
      "257it [00:28,  8.97it/s]\u001b[A\n",
      "258it [00:28,  9.03it/s]\u001b[A\n",
      "259it [00:28,  9.07it/s]\u001b[A\n",
      "260it [00:28,  9.08it/s]\u001b[A\n",
      "261it [00:28,  9.03it/s]\u001b[A\n",
      "262it [00:29,  9.03it/s]\u001b[A\n",
      "263it [00:29,  9.00it/s]\u001b[A"
     ]
    },
    {
     "name": "stdout",
     "output_type": "stream",
     "text": [
      "Epoch [3/3], Step [262/439], Running Loss: 0.0000, running Correct: [0/8384]\n"
     ]
    },
    {
     "name": "stderr",
     "output_type": "stream",
     "text": [
      "\n",
      "264it [00:29,  9.00it/s]\u001b[A\n",
      "265it [00:29,  8.99it/s]\u001b[A\n",
      "266it [00:29,  9.00it/s]\u001b[A\n",
      "267it [00:29,  8.98it/s]\u001b[A\n",
      "268it [00:29,  8.96it/s]\u001b[A\n",
      "269it [00:29,  9.00it/s]\u001b[A\n",
      "270it [00:29,  9.00it/s]\u001b[A\n",
      "271it [00:30,  8.95it/s]\u001b[A\n",
      "272it [00:30,  9.00it/s]\u001b[A\n",
      "273it [00:30,  9.00it/s]\u001b[A\n",
      "274it [00:30,  8.97it/s]\u001b[A\n",
      "275it [00:30,  8.98it/s]\u001b[A\n",
      "276it [00:30,  9.04it/s]\u001b[A\n",
      "277it [00:30,  9.08it/s]\u001b[A\n",
      "278it [00:30,  9.11it/s]\u001b[A\n",
      "279it [00:30,  9.05it/s]\u001b[A\n",
      "280it [00:30,  9.04it/s]\u001b[A\n",
      "281it [00:31,  9.03it/s]\u001b[A\n",
      "282it [00:31,  9.00it/s]\u001b[A\n",
      "283it [00:31,  9.00it/s]\u001b[A"
     ]
    },
    {
     "name": "stdout",
     "output_type": "stream",
     "text": [
      "Epoch [3/3], Step [282/439], Running Loss: 0.0000, running Correct: [0/9024]\n"
     ]
    },
    {
     "name": "stderr",
     "output_type": "stream",
     "text": [
      "\n",
      "284it [00:31,  8.98it/s]\u001b[A\n",
      "285it [00:31,  8.99it/s]\u001b[A\n",
      "286it [00:31,  8.99it/s]\u001b[A\n",
      "287it [00:31,  9.00it/s]\u001b[A\n",
      "288it [00:31,  9.00it/s]\u001b[A\n",
      "289it [00:32,  8.98it/s]\u001b[A\n",
      "290it [00:32,  8.99it/s]\u001b[A\n",
      "291it [00:32,  8.99it/s]\u001b[A\n",
      "292it [00:32,  9.00it/s]\u001b[A\n",
      "293it [00:32,  9.00it/s]\u001b[A\n",
      "294it [00:32,  9.05it/s]\u001b[A\n",
      "295it [00:32,  9.09it/s]\u001b[A\n",
      "296it [00:32,  9.11it/s]\u001b[A\n",
      "297it [00:32,  9.08it/s]\u001b[A\n",
      "298it [00:32,  9.04it/s]\u001b[A\n",
      "299it [00:33,  9.03it/s]\u001b[A\n",
      "300it [00:33,  9.02it/s]\u001b[A\n",
      "301it [00:33,  8.99it/s]\u001b[A\n",
      "302it [00:33,  9.00it/s]\u001b[A\n",
      "303it [00:33,  9.00it/s]\u001b[A"
     ]
    },
    {
     "name": "stdout",
     "output_type": "stream",
     "text": [
      "Epoch [3/3], Step [302/439], Running Loss: 0.0000, running Correct: [0/9664]\n"
     ]
    },
    {
     "name": "stderr",
     "output_type": "stream",
     "text": [
      "\n",
      "304it [00:33,  9.00it/s]\u001b[A\n",
      "305it [00:33,  8.98it/s]\u001b[A\n",
      "306it [00:33,  8.99it/s]\u001b[A\n",
      "307it [00:33,  8.99it/s]\u001b[A\n",
      "308it [00:34,  8.97it/s]\u001b[A\n",
      "309it [00:34,  8.99it/s]\u001b[A\n",
      "310it [00:34,  8.97it/s]\u001b[A\n",
      "311it [00:34,  9.00it/s]\u001b[A\n",
      "312it [00:34,  9.05it/s]\u001b[A\n",
      "313it [00:34,  9.09it/s]\u001b[A\n",
      "314it [00:34,  9.09it/s]\u001b[A\n",
      "315it [00:34,  9.07it/s]\u001b[A\n",
      "316it [00:34,  9.07it/s]\u001b[A\n",
      "317it [00:35,  9.00it/s]\u001b[A\n",
      "318it [00:35,  9.01it/s]\u001b[A\n",
      "319it [00:35,  9.01it/s]\u001b[A\n",
      "320it [00:35,  9.00it/s]\u001b[A\n",
      "321it [00:35,  9.01it/s]\u001b[A\n",
      "322it [00:35,  8.98it/s]\u001b[A\n",
      "323it [00:35,  8.99it/s]\u001b[A"
     ]
    },
    {
     "name": "stdout",
     "output_type": "stream",
     "text": [
      "Epoch [3/3], Step [322/439], Running Loss: 0.0000, running Correct: [0/10304]\n"
     ]
    },
    {
     "name": "stderr",
     "output_type": "stream",
     "text": [
      "\n",
      "324it [00:35,  9.00it/s]\u001b[A\n",
      "325it [00:35,  9.00it/s]\u001b[A\n",
      "326it [00:36,  8.98it/s]\u001b[A\n",
      "327it [00:36,  8.99it/s]\u001b[A\n",
      "328it [00:36,  8.99it/s]\u001b[A\n",
      "329it [00:36,  9.00it/s]\u001b[A\n",
      "330it [00:36,  9.05it/s]\u001b[A\n",
      "331it [00:36,  9.09it/s]\u001b[A\n",
      "332it [00:36,  9.11it/s]\u001b[A\n",
      "333it [00:36,  9.08it/s]\u001b[A\n",
      "334it [00:36,  9.03it/s]\u001b[A\n",
      "335it [00:37,  9.00it/s]\u001b[A\n",
      "336it [00:37,  9.00it/s]\u001b[A\n",
      "337it [00:37,  9.01it/s]\u001b[A\n",
      "338it [00:37,  8.98it/s]\u001b[A\n",
      "339it [00:37,  8.99it/s]\u001b[A\n",
      "340it [00:37,  8.99it/s]\u001b[A\n",
      "341it [00:37,  9.00it/s]\u001b[A\n",
      "342it [00:37,  9.00it/s]\u001b[A\n",
      "343it [00:37,  9.00it/s]\u001b[A"
     ]
    },
    {
     "name": "stdout",
     "output_type": "stream",
     "text": [
      "Epoch [3/3], Step [342/439], Running Loss: 0.0000, running Correct: [0/10944]\n"
     ]
    },
    {
     "name": "stderr",
     "output_type": "stream",
     "text": [
      "\n",
      "344it [00:38,  9.01it/s]\u001b[A\n",
      "345it [00:38,  8.98it/s]\u001b[A\n",
      "346it [00:38,  8.99it/s]\u001b[A\n",
      "347it [00:38,  8.99it/s]\u001b[A\n",
      "348it [00:38,  9.05it/s]\u001b[A\n",
      "349it [00:38,  9.11it/s]\u001b[A\n",
      "350it [00:38,  9.10it/s]\u001b[A\n",
      "351it [00:38,  9.08it/s]\u001b[A\n",
      "352it [00:38,  9.03it/s]\u001b[A\n",
      "353it [00:39,  9.02it/s]\u001b[A\n",
      "354it [00:39,  9.02it/s]\u001b[A\n",
      "355it [00:39,  8.99it/s]\u001b[A\n",
      "356it [00:39,  8.97it/s]\u001b[A\n",
      "357it [00:39,  9.01it/s]\u001b[A\n",
      "358it [00:39,  8.98it/s]\u001b[A\n",
      "359it [00:39,  8.99it/s]\u001b[A\n",
      "360it [00:39,  9.00it/s]\u001b[A\n",
      "361it [00:39,  9.00it/s]\u001b[A\n",
      "362it [00:40,  8.98it/s]\u001b[A\n",
      "363it [00:40,  8.96it/s]\u001b[A"
     ]
    },
    {
     "name": "stdout",
     "output_type": "stream",
     "text": [
      "Epoch [3/3], Step [362/439], Running Loss: 0.0000, running Correct: [0/11584]\n"
     ]
    },
    {
     "name": "stderr",
     "output_type": "stream",
     "text": [
      "\n",
      "364it [00:40,  8.98it/s]\u001b[A\n",
      "365it [00:40,  8.98it/s]\u001b[A\n",
      "366it [00:40,  9.04it/s]\u001b[A\n",
      "367it [00:40,  9.08it/s]\u001b[A\n",
      "368it [00:40,  9.11it/s]\u001b[A\n",
      "369it [00:40,  9.08it/s]\u001b[A\n",
      "370it [00:40,  9.03it/s]\u001b[A\n",
      "371it [00:41,  9.02it/s]\u001b[A\n",
      "372it [00:41,  9.00it/s]\u001b[A\n",
      "373it [00:41,  9.02it/s]\u001b[A\n",
      "374it [00:41,  8.99it/s]\u001b[A\n",
      "375it [00:41,  8.97it/s]\u001b[A\n",
      "376it [00:41,  8.98it/s]\u001b[A\n",
      "377it [00:41,  8.99it/s]\u001b[A\n",
      "378it [00:41,  9.00it/s]\u001b[A\n",
      "379it [00:41,  9.00it/s]\u001b[A\n",
      "380it [00:42,  8.98it/s]\u001b[A\n",
      "381it [00:42,  8.99it/s]\u001b[A\n",
      "382it [00:42,  8.97it/s]\u001b[A\n",
      "383it [00:42,  9.00it/s]\u001b[A"
     ]
    },
    {
     "name": "stdout",
     "output_type": "stream",
     "text": [
      "Epoch [3/3], Step [382/439], Running Loss: 0.0000, running Correct: [0/12224]\n"
     ]
    },
    {
     "name": "stderr",
     "output_type": "stream",
     "text": [
      "\n",
      "384it [00:42,  9.05it/s]\u001b[A\n",
      "385it [00:42,  9.09it/s]\u001b[A\n",
      "386it [00:42,  9.09it/s]\u001b[A\n",
      "387it [00:42,  9.07it/s]\u001b[A\n",
      "388it [00:42,  9.02it/s]\u001b[A\n",
      "389it [00:43,  9.02it/s]\u001b[A\n",
      "390it [00:43,  8.99it/s]\u001b[A\n",
      "391it [00:43,  8.97it/s]\u001b[A\n",
      "392it [00:43,  8.98it/s]\u001b[A\n",
      "393it [00:43,  8.99it/s]\u001b[A\n",
      "394it [00:43,  8.99it/s]\u001b[A\n",
      "395it [00:43,  9.00it/s]\u001b[A\n",
      "396it [00:43,  9.00it/s]\u001b[A\n",
      "397it [00:43,  9.00it/s]\u001b[A\n",
      "398it [00:44,  8.98it/s]\u001b[A\n",
      "399it [00:44,  8.99it/s]\u001b[A\n",
      "400it [00:44,  9.00it/s]\u001b[A\n",
      "401it [00:44,  8.98it/s]\u001b[A\n",
      "402it [00:44,  9.03it/s]\u001b[A\n",
      "403it [00:44,  9.07it/s]\u001b[A"
     ]
    },
    {
     "name": "stdout",
     "output_type": "stream",
     "text": [
      "Epoch [3/3], Step [402/439], Running Loss: 0.0000, running Correct: [0/12864]\n"
     ]
    },
    {
     "name": "stderr",
     "output_type": "stream",
     "text": [
      "\n",
      "404it [00:44,  9.13it/s]\u001b[A\n",
      "405it [00:44,  9.09it/s]\u001b[A\n",
      "406it [00:44,  9.04it/s]\u001b[A\n",
      "407it [00:45,  9.03it/s]\u001b[A\n",
      "408it [00:45,  9.02it/s]\u001b[A\n",
      "409it [00:45,  9.00it/s]\u001b[A\n",
      "410it [00:45,  9.00it/s]\u001b[A\n",
      "411it [00:45,  9.00it/s]\u001b[A\n",
      "412it [00:45,  9.00it/s]\u001b[A\n",
      "413it [00:45,  8.98it/s]\u001b[A\n",
      "414it [00:45,  8.99it/s]\u001b[A\n",
      "415it [00:45,  8.99it/s]\u001b[A\n",
      "416it [00:46,  9.00it/s]\u001b[A\n",
      "417it [00:46,  9.00it/s]\u001b[A\n",
      "418it [00:46,  8.98it/s]\u001b[A\n",
      "419it [00:46,  8.96it/s]\u001b[A\n",
      "420it [00:46,  9.05it/s]\u001b[A\n",
      "421it [00:46,  9.06it/s]\u001b[A\n",
      "422it [00:46,  9.12it/s]\u001b[A\n",
      "423it [00:46,  9.06it/s]\u001b[A"
     ]
    },
    {
     "name": "stdout",
     "output_type": "stream",
     "text": [
      "Epoch [3/3], Step [422/439], Running Loss: 0.0000, running Correct: [0/13504]\n"
     ]
    },
    {
     "name": "stderr",
     "output_type": "stream",
     "text": [
      "\n",
      "424it [00:46,  9.07it/s]\u001b[A\n",
      "425it [00:47,  9.05it/s]\u001b[A\n",
      "426it [00:47,  8.99it/s]\u001b[A\n",
      "427it [00:47,  9.00it/s]\u001b[A\n",
      "428it [00:47,  9.00it/s]\u001b[A\n",
      "429it [00:47,  9.00it/s]\u001b[A\n",
      "430it [00:47,  9.00it/s]\u001b[A\n",
      "431it [00:47,  9.00it/s]\u001b[A\n",
      "432it [00:47,  9.01it/s]\u001b[A\n",
      "433it [00:47,  8.98it/s]\u001b[A\n",
      "434it [00:48,  8.99it/s]\u001b[A\n",
      "435it [00:48,  9.00it/s]\u001b[A\n",
      "436it [00:48,  9.00it/s]\u001b[A\n",
      "437it [00:48,  8.98it/s]\u001b[A\n",
      "438it [00:48,  9.05it/s]\u001b[A\n",
      "439it [00:48,  9.03it/s]\u001b[A\n",
      "100%|██████████| 3/3 [02:26<00:00, 48.69s/it]"
     ]
    },
    {
     "name": "stdout",
     "output_type": "stream",
     "text": [
      "Finished Training\n"
     ]
    },
    {
     "name": "stderr",
     "output_type": "stream",
     "text": [
      "\n"
     ]
    }
   ],
   "source": [
    "criterion = nn.CrossEntropyLoss()\n",
    "optimizer = optim.SGD(net.parameters(), lr=0.001, momentum=0.9)\n",
    "\n",
    "# training\n",
    "num_epoch = 3\n",
    "total_step = len(data_loader)\n",
    "stats = np.empty((0,3), float)\n",
    "\n",
    "for epoch in tqdm(range(num_epoch)):  # loop over the dataset multiple times\n",
    "    running_loss = 0.0\n",
    "    running_correct = 0\n",
    "    print('------ Starting Epoch [{}/{}] ------'.format(epoch+1, num_epoch))\n",
    "    for i, data in tqdm(enumerate(data_loader, 0)):\n",
    "        inputs, labels = data\n",
    "        inputs = inputs.to(device)\n",
    "        labels = labels.to(device)\n",
    "\n",
    "        # forward\n",
    "        optimizer.zero_grad()\n",
    "        outputs = net(inputs)\n",
    "        loss = criterion(outputs, labels)\n",
    "        preds = torch.argmax(outputs, dim=1)\n",
    "        \n",
    "        # back prop\n",
    "        loss.backward()\n",
    "        optimizer.step()\n",
    "\n",
    "#         # stats\n",
    "#         running_loss += loss.item()*inputs.size(0)\n",
    "#         running_correct += torch.sum(preds == labels)\n",
    "#         stats = np.vstack((stats, np.array([running_loss, running_correct, (i+1)*32])))\n",
    "        \n",
    "        if(i % 20  == 1):\n",
    "            print('Epoch [{}/{}], Step [{}/{}], Running Loss: {:.4f}, running Correct: [{}/{}]'\n",
    "              .format(epoch+1, num_epoch, i+1, total_step, running_loss, running_correct, (i+1)*32))\n",
    "    \n",
    "#     #save trained model every 5 epochs\n",
    "#     if(epoch % 5 == 4):\n",
    "#         PATH = './epoch_{}.pth'.format(epoch+1)\n",
    "#         torch.save(net.state_dict(), PATH)\n",
    "        \n",
    "print('Finished Training')"
   ]
  },
  {
   "cell_type": "markdown",
   "id": "bf69847d",
   "metadata": {},
   "source": [
    "## Evaluation"
   ]
  },
  {
   "cell_type": "code",
   "execution_count": 85,
   "id": "a5a4af66",
   "metadata": {},
   "outputs": [],
   "source": [
    "import pandas as pd\n",
    "DF = pd.DataFrame(stats)\n",
    "DF.to_csv(\"stats.csv\")"
   ]
  },
  {
   "cell_type": "code",
   "execution_count": 87,
   "id": "b4e4b7e3",
   "metadata": {},
   "outputs": [],
   "source": [
    "test_set = datasets.ImageFolder(\"./seg_test/seg_test/\",\n",
    "                               transform=transform)\n",
    "testloader = torch.utils.data.DataLoader(test_set, shuffle=True,batch_size=32)"
   ]
  },
  {
   "cell_type": "code",
   "execution_count": 93,
   "id": "1546166a",
   "metadata": {},
   "outputs": [
    {
     "name": "stderr",
     "output_type": "stream",
     "text": [
      "94it [00:10,  8.73it/s]"
     ]
    },
    {
     "name": "stdout",
     "output_type": "stream",
     "text": [
      "Accuracy of the network on the 10000 test images: 84 %\n"
     ]
    },
    {
     "name": "stderr",
     "output_type": "stream",
     "text": [
      "\n"
     ]
    }
   ],
   "source": [
    "correct = 0\n",
    "total = 0\n",
    "all_preds = np.empty((0,32), int)\n",
    "all_labels = np.empty((0,32), int)\n",
    "# since we're not training, we don't need to calculate the gradients for our outputs\n",
    "with torch.no_grad():\n",
    "    for i, data in tqdm(enumerate(testloader, 0)):\n",
    "        \n",
    "        test_images, test_labels = data\n",
    "        # move it to the GPU\n",
    "        test_images = test_images.to(device)\n",
    "        test_labels = test_labels.to(device)\n",
    "        \n",
    "        # calculate outputs by running images through the network\n",
    "        outputs = net(test_images)\n",
    "        # the class with the highest energy is what we choose as prediction\n",
    "        preds = torch.argmax(outputs, dim=1)\n",
    "        total += test_labels.size(0)\n",
    "        correct += torch.sum(preds == test_labels)\n",
    "        \n",
    "        all_preds = np.append(all_preds, preds.cpu().numpy())\n",
    "        all_labels = np.append(all_labels, test_labels.cpu().numpy())\n",
    "\n",
    "print(f'Accuracy of the network on the 10000 test images: {100 * correct // total} %')"
   ]
  },
  {
   "cell_type": "code",
   "execution_count": null,
   "id": "b4e46504",
   "metadata": {},
   "outputs": [],
   "source": []
  }
 ],
 "metadata": {
  "kernelspec": {
   "display_name": "Python 3 (ipykernel)",
   "language": "python",
   "name": "python3"
  },
  "language_info": {
   "codemirror_mode": {
    "name": "ipython",
    "version": 3
   },
   "file_extension": ".py",
   "mimetype": "text/x-python",
   "name": "python",
   "nbconvert_exporter": "python",
   "pygments_lexer": "ipython3",
   "version": "3.11.5"
  }
 },
 "nbformat": 4,
 "nbformat_minor": 5
}
